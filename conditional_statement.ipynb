{
 "cells": [
  {
   "cell_type": "code",
   "execution_count": 1,
   "id": "affbd3a0-ba6d-4799-acc9-854d75fcd69e",
   "metadata": {},
   "outputs": [
    {
     "ename": "SyntaxError",
     "evalue": "invalid syntax (89077156.py, line 1)",
     "output_type": "error",
     "traceback": [
      "\u001b[1;36m  Cell \u001b[1;32mIn[1], line 1\u001b[1;36m\u001b[0m\n\u001b[1;33m    if\u001b[0m\n\u001b[1;37m      ^\u001b[0m\n\u001b[1;31mSyntaxError\u001b[0m\u001b[1;31m:\u001b[0m invalid syntax\n"
     ]
    }
   ],
   "source": [
    "if\n",
    "    <condition1>:\n",
    "    <codeline1>\n",
    "    <codeline2>"
   ]
  },
  {
   "cell_type": "code",
   "execution_count": 3,
   "id": "9d9c29c4-4212-4713-8f7f-f8b67255b8db",
   "metadata": {},
   "outputs": [
    {
     "name": "stdout",
     "output_type": "stream",
     "text": [
      "30\n"
     ]
    }
   ],
   "source": [
    "a=10\n",
    "b=20\n",
    "c=a+b\n",
    "print(c)"
   ]
  },
  {
   "cell_type": "code",
   "execution_count": null,
   "id": "691de671-20d8-42a7-8bdb-6a0e855447b6",
   "metadata": {},
   "outputs": [],
   "source": [
    "hi how are u i m mayur hiiii"
   ]
  },
  {
   "cell_type": "code",
   "execution_count": 1,
   "id": "5b8bc9d6-760f-4231-a58c-52c65d3130ab",
   "metadata": {},
   "outputs": [
    {
     "data": {
      "text/plain": [
       "True"
      ]
     },
     "execution_count": 1,
     "metadata": {},
     "output_type": "execute_result"
    }
   ],
   "source": [
    "100>10"
   ]
  },
  {
   "cell_type": "code",
   "execution_count": 3,
   "id": "1379b90a-ce48-4850-98cf-0883ebe20995",
   "metadata": {},
   "outputs": [
    {
     "data": {
      "text/plain": [
       "True"
      ]
     },
     "execution_count": 3,
     "metadata": {},
     "output_type": "execute_result"
    }
   ],
   "source": [
    "10==10"
   ]
  },
  {
   "cell_type": "code",
   "execution_count": 5,
   "id": "8b49d19f-0aaa-427d-902e-400e48f75872",
   "metadata": {},
   "outputs": [
    {
     "data": {
      "text/plain": [
       "True"
      ]
     },
     "execution_count": 5,
     "metadata": {},
     "output_type": "execute_result"
    }
   ],
   "source": [
    "10>=10"
   ]
  },
  {
   "cell_type": "code",
   "execution_count": 7,
   "id": "8eedc5fe-f866-4741-af8f-51492eb00a9e",
   "metadata": {},
   "outputs": [
    {
     "data": {
      "text/plain": [
       "False"
      ]
     },
     "execution_count": 7,
     "metadata": {},
     "output_type": "execute_result"
    }
   ],
   "source": [
    "10>10"
   ]
  },
  {
   "cell_type": "code",
   "execution_count": 17,
   "id": "6557e13d-001a-4d69-a8c2-9348891a06a8",
   "metadata": {},
   "outputs": [
    {
     "name": "stdout",
     "output_type": "stream",
     "text": [
      "hello\n"
     ]
    }
   ],
   "source": [
    "if 11>10:\n",
    "   print(\"hello\")"
   ]
  },
  {
   "cell_type": "code",
   "execution_count": null,
   "id": "e23b5f85-cb27-49c1-aeca-02fde43d4700",
   "metadata": {},
   "outputs": [],
   "source": [
    "if bool('')\n",
    "print('')"
   ]
  },
  {
   "cell_type": "code",
   "execution_count": null,
   "id": "0a9ad0cb-18b1-488e-b6a1-13178fc4e7ba",
   "metadata": {},
   "outputs": [],
   "source": [
    "if 100>10:\n",
    " print(\"hello\")\n",
    "# Indentation requires 4 spaces"
   ]
  },
  {
   "cell_type": "code",
   "execution_count": 19,
   "id": "8a70818b-c5fe-4366-ad6b-fa774fc52218",
   "metadata": {},
   "outputs": [
    {
     "name": "stdin",
     "output_type": "stream",
     "text": [
      " a\n"
     ]
    },
    {
     "data": {
      "text/plain": [
       "'a'"
      ]
     },
     "execution_count": 19,
     "metadata": {},
     "output_type": "execute_result"
    }
   ],
   "source": [
    "input()"
   ]
  },
  {
   "cell_type": "code",
   "execution_count": 21,
   "id": "6b58f474-1075-4b6d-b602-7d6f5f69b1a9",
   "metadata": {},
   "outputs": [
    {
     "name": "stdout",
     "output_type": "stream",
     "text": [
      "hello\n",
      "good mornig\n",
      "okay\n",
      "bye\n"
     ]
    }
   ],
   "source": [
    "if 100>10:\n",
    " print(\"hello\")\n",
    " print('good mornig')\n",
    "#########################################\n",
    "print(\"okay\")\n",
    "print(\"bye\")"
   ]
  },
  {
   "cell_type": "code",
   "execution_count": 23,
   "id": "a599a482-039c-494d-a2ff-cfc8771c5231",
   "metadata": {},
   "outputs": [
    {
     "name": "stdout",
     "output_type": "stream",
     "text": [
      "10\n",
      "20\n",
      "---------------\n",
      "hello\n",
      "hello\n",
      "okay\n",
      "bye\n"
     ]
    }
   ],
   "source": [
    "print(10)\n",
    "print(20)\n",
    "print('---------------')\n",
    "if 100>10:\n",
    "    print(\"hello\")\n",
    "    print(\"hello\")\n",
    "#########################################\n",
    "print(\"okay\")\n",
    "print(\"bye\")"
   ]
  },
  {
   "cell_type": "code",
   "execution_count": 25,
   "id": "45a0e3c1-0808-4758-a093-7ad36a361e00",
   "metadata": {},
   "outputs": [
    {
     "name": "stdout",
     "output_type": "stream",
     "text": [
      "10\n",
      "hello\n",
      "good mornig\n",
      "okay\n",
      "bye\n"
     ]
    }
   ],
   "source": [
    "print(10)\n",
    "if True:\n",
    " print(\"hello\")\n",
    " print('good mornig')\n",
    "print(\"okay\")\n",
    "print(\"bye\")"
   ]
  },
  {
   "cell_type": "code",
   "execution_count": 31,
   "id": "eca312c5-7c1e-4f61-9d6c-dee04ec5f647",
   "metadata": {},
   "outputs": [
    {
     "name": "stdout",
     "output_type": "stream",
     "text": [
      "10\n",
      "okay\n",
      "bye\n"
     ]
    }
   ],
   "source": [
    "print(10)\n",
    "if False:\n",
    " print(\"hello\")\n",
    " print('good mornig')\n",
    "print(\"okay\")\n",
    "print(\"bye\")"
   ]
  },
  {
   "cell_type": "code",
   "execution_count": 37,
   "id": "3af3c4f9-ce7e-448a-aa9a-98c4406b8855",
   "metadata": {},
   "outputs": [
    {
     "name": "stdout",
     "output_type": "stream",
     "text": [
      "10\n",
      "okay\n",
      "bye\n"
     ]
    }
   ],
   "source": [
    "print(10)\n",
    "if '':\n",
    " print(\"hello\")\n",
    " print('good mornig')\n",
    "print(\"okay\")\n",
    "print(\"bye\")"
   ]
  },
  {
   "cell_type": "code",
   "execution_count": 39,
   "id": "7d0dda44-55ca-42c3-ad08-d74d5ae21ae7",
   "metadata": {},
   "outputs": [
    {
     "name": "stdout",
     "output_type": "stream",
     "text": [
      "10\n",
      "okay\n",
      "bye\n"
     ]
    }
   ],
   "source": [
    "print(10)\n",
    "if 0:\n",
    " print(\"hello\")\n",
    " print('good mornig')\n",
    "print(\"okay\")\n",
    "print(\"bye\")"
   ]
  },
  {
   "cell_type": "code",
   "execution_count": 41,
   "id": "f50fbc1e-26d0-4d3e-a64d-4d15a7386c2a",
   "metadata": {},
   "outputs": [
    {
     "data": {
      "text/plain": [
       "False"
      ]
     },
     "execution_count": 41,
     "metadata": {},
     "output_type": "execute_result"
    }
   ],
   "source": [
    "bool('')"
   ]
  },
  {
   "cell_type": "code",
   "execution_count": 43,
   "id": "eb99efc1-f996-4a5f-b4b8-215633eff7fa",
   "metadata": {},
   "outputs": [
    {
     "name": "stdout",
     "output_type": "stream",
     "text": [
      "10\n",
      "hello\n",
      "good mornig\n",
      "okay\n",
      "bye\n"
     ]
    }
   ],
   "source": [
    "print(10)\n",
    "if 'hello':\n",
    " print(\"hello\")\n",
    " print('good mornig')\n",
    "print(\"okay\")\n",
    "print(\"bye\")"
   ]
  },
  {
   "cell_type": "code",
   "execution_count": 45,
   "id": "18112dda-67e1-41a1-9eea-22d0de232429",
   "metadata": {},
   "outputs": [
    {
     "data": {
      "text/plain": [
       "True"
      ]
     },
     "execution_count": 45,
     "metadata": {},
     "output_type": "execute_result"
    }
   ],
   "source": [
    "bool('hello')"
   ]
  },
  {
   "cell_type": "code",
   "execution_count": null,
   "id": "7f021642-1998-4f96-bc79-b6a9606f31e8",
   "metadata": {},
   "outputs": [],
   "source": [
    "# syntax\n",
    "if <condtion>:\n",
    " <code line>\n",
    "else:\n",
    " <code line>"
   ]
  },
  {
   "cell_type": "code",
   "execution_count": 49,
   "id": "82297d67-7696-4dda-a8d0-77e14457d4ee",
   "metadata": {},
   "outputs": [
    {
     "name": "stdout",
     "output_type": "stream",
     "text": [
      "good condition is correct\n"
     ]
    }
   ],
   "source": [
    "if 100>10:\n",
    " print(\"good condition is correct\")\n",
    "else:\n",
    " print(\"not good condition is wrong\")"
   ]
  },
  {
   "cell_type": "code",
   "execution_count": 51,
   "id": "8f745a1e-ccdf-43e3-88ba-93b5d7c6928b",
   "metadata": {},
   "outputs": [
    {
     "name": "stdout",
     "output_type": "stream",
     "text": [
      "not good condition is wrong\n"
     ]
    }
   ],
   "source": [
    "if 100<10:\n",
    " print(\"good condition is correct\")\n",
    "else:\n",
    " print(\"not good condition is wrong\")"
   ]
  },
  {
   "cell_type": "code",
   "execution_count": 53,
   "id": "27474dcb-e395-4f7c-bf0c-f93e729b4cab",
   "metadata": {},
   "outputs": [
    {
     "name": "stdout",
     "output_type": "stream",
     "text": [
      "hello\n",
      "good condition is correct\n",
      "bye\n"
     ]
    }
   ],
   "source": [
    "print(\"hello\")\n",
    "if 100>10:\n",
    " print(\"good condition is correct\")\n",
    "else:\n",
    " print(\"not good condition is wrong\")\n",
    "print(\"bye\")"
   ]
  },
  {
   "cell_type": "code",
   "execution_count": 72,
   "id": "600c1e3e-c1c7-449d-a602-868f875f94c0",
   "metadata": {},
   "outputs": [
    {
     "ename": "IndentationError",
     "evalue": "unexpected indent (4104473688.py, line 5)",
     "output_type": "error",
     "traceback": [
      "\u001b[1;36m  Cell \u001b[1;32mIn[72], line 5\u001b[1;36m\u001b[0m\n\u001b[1;33m    else:\u001b[0m\n\u001b[1;37m    ^\u001b[0m\n\u001b[1;31mIndentationError\u001b[0m\u001b[1;31m:\u001b[0m unexpected indent\n"
     ]
    }
   ],
   "source": [
    "print(\"hello\")\n",
    "if 100>10:\n",
    " print(\"good condition is correct\")\n",
    " print(\"why you are in middile\")\n",
    "   else:\n",
    "     print(\"not good condition is wrong\")\n",
    "     print(\"bye\")"
   ]
  },
  {
   "cell_type": "code",
   "execution_count": 74,
   "id": "6a0aa327-9366-4d71-8421-6af81cbdc12e",
   "metadata": {},
   "outputs": [
    {
     "name": "stdout",
     "output_type": "stream",
     "text": [
      "10\n",
      "0\n",
      "10\n",
      "0.0\n"
     ]
    },
    {
     "ename": "ZeroDivisionError",
     "evalue": "division by zero",
     "output_type": "error",
     "traceback": [
      "\u001b[1;31m---------------------------------------------------------------------------\u001b[0m",
      "\u001b[1;31mZeroDivisionError\u001b[0m                         Traceback (most recent call last)",
      "Cell \u001b[1;32mIn[74], line 10\u001b[0m\n\u001b[0;32m      8\u001b[0m d\u001b[38;5;241m=\u001b[39mb\u001b[38;5;241m/\u001b[39ma \u001b[38;5;66;03m# 0/10 = 0\u001b[39;00m\n\u001b[0;32m      9\u001b[0m \u001b[38;5;28mprint\u001b[39m(d) \n\u001b[1;32m---> 10\u001b[0m e\u001b[38;5;241m=\u001b[39ma\u001b[38;5;241m/\u001b[39mb \u001b[38;5;66;03m# 10/0= any number /0 means error\u001b[39;00m\n\u001b[0;32m     11\u001b[0m \u001b[38;5;28mprint\u001b[39m(e)\n",
      "\u001b[1;31mZeroDivisionError\u001b[0m: division by zero"
     ]
    }
   ],
   "source": [
    "if True:\n",
    " a=10\n",
    " b=0\n",
    " print(a) # 10\n",
    " print(b) # 0\n",
    " c=a+b\n",
    " print(c) # 10+0=10\n",
    " d=b/a # 0/10 = 0\n",
    " print(d) \n",
    " e=a/b # 10/0= any number /0 means error can't divided by zero \n",
    " print(e)"
   ]
  },
  {
   "cell_type": "code",
   "execution_count": null,
   "id": "9f5ebdf1-54cf-4547-9421-0a51799e91fd",
   "metadata": {},
   "outputs": [],
   "source": [
    "expr = 10 + 20 * 30\n",
    "print(expr)\n",
    "name = \"Alex\"\n",
    "age = 0\n",
    "\n",
    "if name == \"Alex\" or name == \"John\" and age >= 2: #in this problem condition right to left age=false or name=true that why \n",
    "    print(\"Hello! Welcome.\")                       # means condition is true print hello welcome\n",
    "else:\n",
    "    print(\"Good Bye!!\")"
   ]
  },
  {
   "cell_type": "code",
   "execution_count": 33,
   "id": "5d098f98-d526-47be-9dee-4e5b95c704ae",
   "metadata": {},
   "outputs": [
    {
     "name": "stdout",
     "output_type": "stream",
     "text": [
      "Good Bye!!\n"
     ]
    }
   ],
   "source": [
    "name = \"Alex\"\n",
    "age = 0\n",
    "\n",
    "if (name == \"Alex\" or name == \"John\") and age >= 2: \n",
    "    print(\"Hello! Welcome.\")                       # this condition is false due to or=true then  and=false then print good bye\n",
    "else:\n",
    "    print(\"Good Bye!!\")"
   ]
  },
  {
   "cell_type": "code",
   "execution_count": 54,
   "id": "9791521f-0b33-4ae6-a345-93e1596488a0",
   "metadata": {},
   "outputs": [
    {
     "name": "stdout",
     "output_type": "stream",
     "text": [
      "30\n",
      "good morning\n"
     ]
    }
   ],
   "source": [
    "a=10\n",
    "b=20\n",
    "add=a+b\n",
    "print(add)\n",
    "c='mayur'\n",
    "d='bhagat'\n",
    "if c!=b or c==b:\n",
    "    print(\"good morning\")\n",
    "else:\n",
    "    print(\"good night\")\n"
   ]
  },
  {
   "cell_type": "code",
   "execution_count": 76,
   "id": "5e3aa8d5-86c2-45f1-bb67-c416ecaef88d",
   "metadata": {},
   "outputs": [
    {
     "data": {
      "text/plain": [
       "1.25"
      ]
     },
     "execution_count": 76,
     "metadata": {},
     "output_type": "execute_result"
    }
   ],
   "source": [
    "5/4 # normal division"
   ]
  },
  {
   "cell_type": "code",
   "execution_count": 15,
   "id": "4483cbf7-6d7d-4701-9608-94c9aa9e0a0d",
   "metadata": {},
   "outputs": [
    {
     "data": {
      "text/plain": [
       "5"
      ]
     },
     "execution_count": 15,
     "metadata": {},
     "output_type": "execute_result"
    }
   ],
   "source": [
    "25//5 # floor division"
   ]
  },
  {
   "cell_type": "code",
   "execution_count": 3,
   "id": "5cd13890-e8ad-45b3-8cea-74af5bf73a9c",
   "metadata": {},
   "outputs": [
    {
     "data": {
      "text/plain": [
       "1"
      ]
     },
     "execution_count": 3,
     "metadata": {},
     "output_type": "execute_result"
    }
   ],
   "source": [
    "# modulus operator\n",
    "5%4 # reminder"
   ]
  },
  {
   "cell_type": "code",
   "execution_count": null,
   "id": "122baa79-ae56-488d-b5c8-90fdf260ad7d",
   "metadata": {},
   "outputs": [],
   "source": [
    "/--- normal division(return type float)\n",
    "//---floor division(return type int) quotient\n",
    "%---remainder (return int) "
   ]
  },
  {
   "cell_type": "code",
   "execution_count": null,
   "id": "b0f0bad7-0363-4c8d-9e68-94b091d17a60",
   "metadata": {},
   "outputs": [],
   "source": [
    "#wap ask enter the number the no will be even or odd"
   ]
  },
  {
   "cell_type": "code",
   "execution_count": 25,
   "id": "06582a08-9d2a-49b1-879e-8c3faeac201f",
   "metadata": {},
   "outputs": [
    {
     "name": "stdin",
     "output_type": "stream",
     "text": [
      "enter the number 20\n"
     ]
    },
    {
     "name": "stdout",
     "output_type": "stream",
     "text": [
      "the 20 will be even\n"
     ]
    }
   ],
   "source": [
    "num=eval(input(\"enter the number\"))\n",
    "if num%2==0:\n",
    "    print(f\"the {num} will be even\")\n",
    "else:\n",
    "    print(f\"the {num} will be odd\")"
   ]
  },
  {
   "cell_type": "code",
   "execution_count": 29,
   "id": "8f3e8f42-f574-4ca3-8651-c7169efa5fb4",
   "metadata": {},
   "outputs": [
    {
     "name": "stdin",
     "output_type": "stream",
     "text": [
      "enter the start number :  1\n",
      "enter the end number :  10\n"
     ]
    },
    {
     "name": "stdout",
     "output_type": "stream",
     "text": [
      "the 8 will be even\n"
     ]
    }
   ],
   "source": [
    "import random\n",
    "start=eval(input(\"enter the start number : \"))\n",
    "end=eval(input(\"enter the end number : \"))\n",
    "num=random.randint(start,end)\n",
    "if num%2==0:\n",
    "    print(f\"the {num} will be even\")\n",
    "else:\n",
    "    print(f\"the {num} will be odd\")"
   ]
  },
  {
   "cell_type": "code",
   "execution_count": 35,
   "id": "c0ed3c2b-b712-41dd-85c8-069dcb8ab617",
   "metadata": {},
   "outputs": [
    {
     "name": "stdin",
     "output_type": "stream",
     "text": [
      "enter the distance in km : 50\n",
      "enter the charge travel above 25 km in rs: 10\n"
     ]
    },
    {
     "name": "stdout",
     "output_type": "stream",
     "text": [
      "the cost of the ride is 500\n"
     ]
    }
   ],
   "source": [
    "dis=eval(input(\"enter the distance in km :\"))\n",
    "if dis>25:\n",
    "    crge=eval(input(\"enter the charge travel above 25 km in rs:\"))\n",
    "    cost=dis*crge\n",
    "    print(f\"the cost of the ride is {cost}\")\n",
    "else:\n",
    "    print(\"enjoy the free ride :\")"
   ]
  },
  {
   "cell_type": "code",
   "execution_count": 39,
   "id": "4354958e-b256-485a-8391-5990bcc28fe0",
   "metadata": {},
   "outputs": [
    {
     "name": "stdin",
     "output_type": "stream",
     "text": [
      "enter the distance in km 10\n",
      "enter the cut-off distance 9\n"
     ]
    },
    {
     "name": "stdout",
     "output_type": "stream",
     "text": [
      "kudos to you the chargeable distance is 1\n"
     ]
    },
    {
     "name": "stdin",
     "output_type": "stream",
     "text": [
      "enter the charge in rs 10\n"
     ]
    },
    {
     "name": "stdout",
     "output_type": "stream",
     "text": [
      "the total cost is 10\n"
     ]
    }
   ],
   "source": [
    "dis=eval(input(\"enter the distance in km\"))\n",
    "cut_off=eval(input(\"enter the cut-off distance\"))\n",
    "if dis>cut_off:\n",
    "    charge_dis=dis-cut_off\n",
    "    print(\"kudos to you the chargeable distance is\",charge_dis)\n",
    "    charge=eval(input(\"enter the charge in rs\"))\n",
    "    cost=charge_dis*charge\n",
    "    print(\"the total cost is\",cost)\n",
    "else:\n",
    "    print(\"enjoy the free ride\")"
   ]
  },
  {
   "cell_type": "code",
   "execution_count": 41,
   "id": "ce69d020-df23-453a-98e6-5b7b5f3ea2eb",
   "metadata": {},
   "outputs": [],
   "source": [
    "#one number random and second number enter is equal you won and then lose"
   ]
  },
  {
   "cell_type": "code",
   "execution_count": 49,
   "id": "402e130c-a57b-4a3e-8bb5-baa7a232464f",
   "metadata": {},
   "outputs": [
    {
     "name": "stdin",
     "output_type": "stream",
     "text": [
      "enter the no 2  4\n"
     ]
    },
    {
     "name": "stdout",
     "output_type": "stream",
     "text": [
      "you lose\n"
     ]
    }
   ],
   "source": [
    "import random\n",
    "num=random.randint(1,10)\n",
    "num1=eval(input(\"enter the no 2 \"))\n",
    "if num==num1:\n",
    "    print(\"you win\")\n",
    "else:\n",
    "    print(\"you lose\")"
   ]
  },
  {
   "cell_type": "code",
   "execution_count": 51,
   "id": "87236b51-75af-4f2e-bfd5-54c62e914526",
   "metadata": {},
   "outputs": [],
   "source": [
    "# ask the user enter the institute name and course name "
   ]
  },
  {
   "cell_type": "code",
   "execution_count": 55,
   "id": "4a03ac79-1cd0-4bcd-9db5-db0ac3552280",
   "metadata": {},
   "outputs": [
    {
     "name": "stdin",
     "output_type": "stream",
     "text": [
      "enter the institute name : naresh it\n",
      "enter the course name java\n"
     ]
    },
    {
     "name": "stdout",
     "output_type": "stream",
     "text": [
      "bad\n"
     ]
    }
   ],
   "source": [
    "insti=input(\"enter the institute name :\")\n",
    "cours=input(\"enter the course name :\")\n",
    "if insti=='naresh it' and cours=='data science':\n",
    "    print(\"good\")\n",
    "else:\n",
    "    print(\"bad\") "
   ]
  },
  {
   "cell_type": "code",
   "execution_count": 59,
   "id": "30720b41-0993-4a09-9290-19a4048e0717",
   "metadata": {},
   "outputs": [
    {
     "name": "stdin",
     "output_type": "stream",
     "text": [
      "enter the institue name : java\n",
      "enter the course name : data science\n"
     ]
    },
    {
     "name": "stdout",
     "output_type": "stream",
     "text": [
      "good\n"
     ]
    }
   ],
   "source": [
    "insti=input(\"enter the institue name :\")\n",
    "cours=input(\"enter the course name :\")\n",
    "if insti=='naresh it' or cours=='data science':\n",
    "    print(\"good\")\n",
    "else:\n",
    "    print(\"bad\")"
   ]
  },
  {
   "cell_type": "code",
   "execution_count": null,
   "id": "da99a4a7-81a4-4e66-b8b7-3bed1cecc138",
   "metadata": {},
   "outputs": [],
   "source": [
    "add means two condition need to satisfy\n",
    "or means any one condition enough to satisfy"
   ]
  },
  {
   "cell_type": "code",
   "execution_count": null,
   "id": "151c78cf-6f32-467a-8576-284949fc412c",
   "metadata": {},
   "outputs": [],
   "source": [
    "if<condition>:\n",
    "  <statement>\n",
    "elif<condition>:\n",
    "    <statement>\n",
    "else:\n",
    "    <statement>\n",
    "\n",
    "if else\n",
    "if elif else\n",
    "if elif elif else\n",
    "if elif elif elif else"
   ]
  },
  {
   "cell_type": "code",
   "execution_count": null,
   "id": "96d3a100-0c61-4366-8282-96e7bc24f2db",
   "metadata": {},
   "outputs": [],
   "source": [
    "till now we have seen one condition problem\n",
    "which means if that condition is true will get one answer\n",
    "if that condition false then will get another answer\n",
    "how about if we have more than 2 condition\n",
    "if-elif-else\n",
    "two condition means 3 results\n",
    "if has one condition \n",
    "elif has second condition\n",
    "if both are false then the result is else"
   ]
  },
  {
   "cell_type": "code",
   "execution_count": 67,
   "id": "76555841-3560-4cc7-8839-e38c3eda5824",
   "metadata": {},
   "outputs": [
    {
     "name": "stdin",
     "output_type": "stream",
     "text": [
      "enter the number :  3\n"
     ]
    },
    {
     "name": "stdout",
     "output_type": "stream",
     "text": [
      "three\n"
     ]
    }
   ],
   "source": [
    "#enter the number the num=1 is equal and num=2 is equal , num=3 is equal and other print enter the \n",
    "#valid number\n",
    "num=eval(input(\"enter the number : \"))\n",
    "if num==1:\n",
    "    print(\"one\")\n",
    "elif num==2:\n",
    "    print(\"second\")\n",
    "elif num==3:\n",
    "    print(\"three\")\n",
    "else:\n",
    "    print(\"enter the valid the number\")   "
   ]
  },
  {
   "cell_type": "code",
   "execution_count": 73,
   "id": "ab5b96e5-f54a-44da-9acb-a409b833fe16",
   "metadata": {},
   "outputs": [
    {
     "name": "stdin",
     "output_type": "stream",
     "text": [
      "enter the number 0\n"
     ]
    },
    {
     "name": "stdout",
     "output_type": "stream",
     "text": [
      "zero\n"
     ]
    }
   ],
   "source": [
    "num=eval(input(\"enter the number\"))\n",
    "if num>0:\n",
    "    print(\"positive\")\n",
    "elif num<0:\n",
    "    print(\"negative\")\n",
    "else:\n",
    "    print(\"zero\")"
   ]
  },
  {
   "cell_type": "code",
   "execution_count": 85,
   "id": "bb91927a-7e69-4c0a-89e8-487686f9b890",
   "metadata": {},
   "outputs": [
    {
     "name": "stdin",
     "output_type": "stream",
     "text": [
      "enter the percentage :  12\n"
     ]
    },
    {
     "name": "stdout",
     "output_type": "stream",
     "text": [
      "fail\n"
     ]
    }
   ],
   "source": [
    "per=eval(input(\"enter the percentage : \"))\n",
    "if per>=90:\n",
    "    print(\"grade a\")\n",
    "elif per<90 and per>=75:\n",
    "    print(\"grade b\")\n",
    "elif per<75 and per>=50:\n",
    "    print(\"grade c\")\n",
    "elif per<50 and per>=35:\n",
    "    print(\"grade d\")\n",
    "else:\n",
    "    print(\"fail\")"
   ]
  },
  {
   "cell_type": "code",
   "execution_count": 95,
   "id": "c9904327-4dec-4633-a8ee-a27e0841db1b",
   "metadata": {},
   "outputs": [
    {
     "name": "stdin",
     "output_type": "stream",
     "text": [
      "enter the percentage :  34\n"
     ]
    },
    {
     "name": "stdout",
     "output_type": "stream",
     "text": [
      "fail\n"
     ]
    }
   ],
   "source": [
    "per=eval(input(\"enter the percentage : \"))\n",
    "if per>=90:\n",
    "    print(\"grade a\")\n",
    "elif per>=75:\n",
    "    print(\"grade b\")\n",
    "elif per>=50:            #if 80>=90 fail\n",
    "    print(\"grade c\")     #elif 80>=75 true\n",
    "elif per>=35:            #elif 80>=50: true\n",
    "    print(\"grade d\")\n",
    "else:\n",
    "    print(\"fail\")"
   ]
  },
  {
   "cell_type": "code",
   "execution_count": 3,
   "id": "d27bff50-c92e-4c7e-ac03-05a78a60bd49",
   "metadata": {},
   "outputs": [
    {
     "name": "stdin",
     "output_type": "stream",
     "text": [
      "enter the age 100\n"
     ]
    },
    {
     "name": "stdout",
     "output_type": "stream",
     "text": [
      "you are lucky you still alive\n"
     ]
    }
   ],
   "source": [
    "age=eval(input(\"enter the age\"))\n",
    "if age>=100:\n",
    "    print(\"you are lucky you still alive\")\n",
    "elif age>=75:\n",
    "    print(\"old age\")\n",
    "elif age>=50:\n",
    "    print(\"senior\")\n",
    "elif age>=30:\n",
    "    print(\"senior citizen\")\n",
    "elif age>=15:\n",
    "    print(\"young age\")\n",
    "else:\n",
    "    print(\"kid\")"
   ]
  },
  {
   "cell_type": "code",
   "execution_count": null,
   "id": "d029e10d-4301-4f64-902c-ff66a9edd7f5",
   "metadata": {},
   "outputs": [],
   "source": [
    "# wap ask the user enter 2 numbers\n",
    "# num1\n",
    "# num2\n",
    "# you need to print\n",
    "# enter operation 1 for addition\n",
    "# enter operation 2 for mult\n",
    "# enter oper 3 for sub\n",
    "# enter oper 4 for div"
   ]
  },
  {
   "cell_type": "code",
   "execution_count": 17,
   "id": "95754a06-1654-4395-9fd1-ac9d43c8bb23",
   "metadata": {},
   "outputs": [
    {
     "name": "stdin",
     "output_type": "stream",
     "text": [
      "enter the num1 : 10\n",
      "enter the num2 : 10\n"
     ]
    },
    {
     "name": "stdout",
     "output_type": "stream",
     "text": [
      "enter the operation 1 for addition\n",
      "enter the operation 2 for subtraction\n",
      "enter the operation 3 for multiplication\n",
      "enter the operation 4 for division\n",
      "----------------------------\n"
     ]
    },
    {
     "name": "stdin",
     "output_type": "stream",
     "text": [
      "enter the operation 1 to 4 5\n"
     ]
    },
    {
     "name": "stdout",
     "output_type": "stream",
     "text": [
      "----------------------------\n",
      "enter the valid operation\n"
     ]
    }
   ],
   "source": [
    "num1=eval(input(\"enter the num1 :\"))\n",
    "num2=eval(input(\"enter the num2 :\"))\n",
    "print(\"enter the operation 1 for addition\")\n",
    "print(\"enter the operation 2 for subtraction\")\n",
    "print(\"enter the operation 3 for multiplication\")\n",
    "print(\"enter the operation 4 for division\")\n",
    "print('----------------------------')\n",
    "op=eval(input('enter the operation 1 to 4'))\n",
    "print('----------------------------')\n",
    "if op==1:\n",
    "    add=num1+num2\n",
    "    print(f\"the addition is {add} \")\n",
    "elif op==2:\n",
    "    sub=num1-num2\n",
    "    print(f\"the subtraction is {sub} \")\n",
    "elif op==3:\n",
    "    mul=num1*num2\n",
    "    print(f\"the multiplication is {mul} \")\n",
    "elif op==4:\n",
    "    div=num1/num2\n",
    "    print(f\"the division is {div} \")\n",
    "else:\n",
    "    print(\"enter the valid operation\")"
   ]
  },
  {
   "cell_type": "code",
   "execution_count": 63,
   "id": "f750b2c0-ed91-4972-9ef7-c4bfa536b3df",
   "metadata": {},
   "outputs": [
    {
     "name": "stdout",
     "output_type": "stream",
     "text": [
      "Bigger than 5\n",
      "Between 5 and 15\n"
     ]
    }
   ],
   "source": [
    "#in this if statement then another nested if one condition is true enter the another if condition \n",
    "#this example of nested if \n",
    "num = 10\n",
    "if num > 5: \n",
    "\tprint(\"Bigger than 5\") \n",
    "\n",
    "\tif num <= 15: \n",
    "\t\tprint(\"Between 5 and 15\") \n"
   ]
  },
  {
   "cell_type": "code",
   "execution_count": 10,
   "id": "c1779307-7607-4b5a-86ac-8c3d952cd31a",
   "metadata": {},
   "outputs": [
    {
     "ename": "IndentationError",
     "evalue": "unexpected indent (2419999755.py, line 4)",
     "output_type": "error",
     "traceback": [
      "\u001b[1;36m  Cell \u001b[1;32mIn[10], line 4\u001b[1;36m\u001b[0m\n\u001b[1;33m    if age>=60:\u001b[0m\n\u001b[1;37m    ^\u001b[0m\n\u001b[1;31mIndentationError\u001b[0m\u001b[1;31m:\u001b[0m unexpected indent\n"
     ]
    }
   ],
   "source": [
    "gen=input(\"enter the gender :\")\n",
    "if gen=='male':\n",
    " age=eval(input(\"enter the age :\"))\n",
    "    if age>=60:\n",
    "    print(\"senior citizen\")\n",
    "    elif age>=30:\n",
    "    print(\"middle man age\")\n",
    "    elif age>=15:\n",
    "    print(\"young man\")\n",
    "else:\n",
    "    print(\"boy\")\n",
    "    elif:gen=='female':\n",
    "      age=eval(input(\"enter the age :\"))\n",
    "    if age>=60:\n",
    "    print(\"senior citizen\")\n",
    "    elif age>=30:\n",
    "    print(\"middle age women\")\n",
    "    elif age>=15:\n",
    "    print(\"young girl\")\n",
    "else:\n",
    "    print(\"girl\")\n",
    "else:\n",
    "    print(\"enter the valid gender\")"
   ]
  },
  {
   "cell_type": "code",
   "execution_count": null,
   "id": "2a022613-a04f-446b-89bf-e8d8a7f5813f",
   "metadata": {},
   "outputs": [],
   "source": []
  },
  {
   "cell_type": "code",
   "execution_count": null,
   "id": "7fcf47c5-6b4c-482e-8a60-99160902cdcf",
   "metadata": {},
   "outputs": [],
   "source": []
  }
 ],
 "metadata": {
  "kernelspec": {
   "display_name": "Python 3 (ipykernel)",
   "language": "python",
   "name": "python3"
  },
  "language_info": {
   "codemirror_mode": {
    "name": "ipython",
    "version": 3
   },
   "file_extension": ".py",
   "mimetype": "text/x-python",
   "name": "python",
   "nbconvert_exporter": "python",
   "pygments_lexer": "ipython3",
   "version": "3.11.7"
  }
 },
 "nbformat": 4,
 "nbformat_minor": 5
}
