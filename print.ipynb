{
 "cells": [
  {
   "cell_type": "code",
   "execution_count": 1,
   "id": "61cded04-1a53-4154-8fbc-73d5a1bde7cb",
   "metadata": {},
   "outputs": [],
   "source": [
    "num=300"
   ]
  },
  {
   "cell_type": "code",
   "execution_count": 3,
   "id": "301e6b17-b14e-4952-9881-75eada9d93c4",
   "metadata": {},
   "outputs": [
    {
     "name": "stdout",
     "output_type": "stream",
     "text": [
      "300\n"
     ]
    }
   ],
   "source": [
    "print(num)"
   ]
  },
  {
   "cell_type": "code",
   "execution_count": 5,
   "id": "11b79316-f32a-498e-9d8d-6648d234833b",
   "metadata": {},
   "outputs": [
    {
     "name": "stdout",
     "output_type": "stream",
     "text": [
      "300\n"
     ]
    }
   ],
   "source": [
    "print(300)"
   ]
  },
  {
   "cell_type": "code",
   "execution_count": 7,
   "id": "6427422a-4a67-41e6-ad24-7742886f517a",
   "metadata": {},
   "outputs": [
    {
     "name": "stdout",
     "output_type": "stream",
     "text": [
      "python\n"
     ]
    }
   ],
   "source": [
    "print('python')"
   ]
  },
  {
   "cell_type": "code",
   "execution_count": 9,
   "id": "333bef5b-32b3-40b1-869d-d661fe6a3b18",
   "metadata": {},
   "outputs": [
    {
     "name": "stdout",
     "output_type": "stream",
     "text": [
      "10 20 30\n"
     ]
    }
   ],
   "source": [
    "print(10,20,30)"
   ]
  },
  {
   "cell_type": "code",
   "execution_count": 11,
   "id": "8ee2a831-80c4-4b01-82be-c9ba3eeac940",
   "metadata": {},
   "outputs": [
    {
     "name": "stdout",
     "output_type": "stream",
     "text": [
      "10 20 30 naresh it True\n"
     ]
    }
   ],
   "source": [
    "print(10,20,30,'naresh it',True)"
   ]
  },
  {
   "cell_type": "code",
   "execution_count": 13,
   "id": "1bc02357-53d7-4393-a053-a2332870f6c7",
   "metadata": {},
   "outputs": [
    {
     "name": "stdout",
     "output_type": "stream",
     "text": [
      "10\n",
      "20\n"
     ]
    },
    {
     "data": {
      "text/plain": [
       "(None, None)"
      ]
     },
     "execution_count": 13,
     "metadata": {},
     "output_type": "execute_result"
    }
   ],
   "source": [
    "print(10),print(20)"
   ]
  },
  {
   "cell_type": "code",
   "execution_count": null,
   "id": "083d3295-26b0-473e-bac2-fcf4a3ea59b7",
   "metadata": {},
   "outputs": [],
   "source": [
    "#why give this none because when \n",
    "#we use mutiple print statement in single cell \n",
    "#it is result of the cell exceution show return value of print statement"
   ]
  },
  {
   "cell_type": "code",
   "execution_count": 15,
   "id": "7f819208-f044-407a-823f-bb3d8cdeae88",
   "metadata": {},
   "outputs": [
    {
     "name": "stdout",
     "output_type": "stream",
     "text": [
      "10\n",
      "20\n"
     ]
    }
   ],
   "source": [
    "print(10)\n",
    "print(20)"
   ]
  },
  {
   "cell_type": "code",
   "execution_count": 19,
   "id": "afcf2c7c-7bbf-4c92-a114-8e99ae58dd4d",
   "metadata": {},
   "outputs": [
    {
     "data": {
      "text/plain": [
       "(10, 20)"
      ]
     },
     "execution_count": 19,
     "metadata": {},
     "output_type": "execute_result"
    }
   ],
   "source": [
    "n1=10\n",
    "n2=20\n",
    "n1,n2"
   ]
  },
  {
   "cell_type": "code",
   "execution_count": 23,
   "id": "621a4f69-84bc-4f63-817e-ed76224fc36f",
   "metadata": {},
   "outputs": [
    {
     "name": "stdout",
     "output_type": "stream",
     "text": [
      "the addition of 100 and 200 is 300\n",
      "the addition of 100 and 100 is 200\n"
     ]
    }
   ],
   "source": [
    "a=100\n",
    "b=100\n",
    "c=a+b\n",
    "print(\"the addition of 100 and 200 is 300\")\n",
    "print(\"the addition of\",a,\"and\",b,\"is\",c)"
   ]
  },
  {
   "cell_type": "markdown",
   "id": "e59b7167-926e-447a-89b9-2087a6463315",
   "metadata": {},
   "source": [
    "***format***"
   ]
  },
  {
   "cell_type": "code",
   "execution_count": 26,
   "id": "6c0b33e6-2854-40cd-9c28-a60c211d9451",
   "metadata": {},
   "outputs": [
    {
     "name": "stdout",
     "output_type": "stream",
     "text": [
      "the addition of 100 and 200 is 300\n"
     ]
    }
   ],
   "source": [
    "a=100\n",
    "b=200\n",
    "c=a+b\n",
    "print(\"the addition of {} and {} is {}\".format(a,b,c))"
   ]
  },
  {
   "cell_type": "markdown",
   "id": "33fc08ad-38ad-48ec-add4-58b92d94a168",
   "metadata": {},
   "source": [
    "***f string***"
   ]
  },
  {
   "cell_type": "code",
   "execution_count": 29,
   "id": "4051d535-b518-43c2-857b-7cd831d578a7",
   "metadata": {},
   "outputs": [
    {
     "name": "stdout",
     "output_type": "stream",
     "text": [
      "the addition of 100 and 230 is 330\n"
     ]
    }
   ],
   "source": [
    "a=100\n",
    "b=230\n",
    "c=a+b\n",
    "print(f\"the addition of {a} and {b} is {c}\")"
   ]
  },
  {
   "cell_type": "code",
   "execution_count": null,
   "id": "3279cbfe-b05d-4be8-993e-3308047adda4",
   "metadata": {},
   "outputs": [],
   "source": [
    "# take the radius of circle\n",
    "# take the pi value=3.14\n",
    "# Find the area of the circle = pi*r*r"
   ]
  },
  {
   "cell_type": "code",
   "execution_count": 31,
   "id": "12bf755b-d0b1-4c86-8fc0-24ab7079ad62",
   "metadata": {},
   "outputs": [
    {
     "name": "stdout",
     "output_type": "stream",
     "text": [
      "the area of circle is :1256.0\n"
     ]
    }
   ],
   "source": [
    "r=20\n",
    "a=3.14*r*r\n",
    "print(f\"the area of circle is :{a}\")"
   ]
  },
  {
   "cell_type": "code",
   "execution_count": 33,
   "id": "7edd2f78-3d64-4a9a-b728-db2196bb7bc7",
   "metadata": {},
   "outputs": [],
   "source": [
    "# take the base of traingle\n",
    "# take the height of the traingle\n",
    "# area of the traingle=1/2*base*height"
   ]
  },
  {
   "cell_type": "code",
   "execution_count": 35,
   "id": "877aee37-5042-49c6-a2db-ce17628a46f2",
   "metadata": {},
   "outputs": [
    {
     "name": "stdout",
     "output_type": "stream",
     "text": [
      "the area of triangle is : 100.0\n"
     ]
    }
   ],
   "source": [
    "b=10\n",
    "h=20\n",
    "a=1/2*b*h\n",
    "print(f\"the area of triangle is : {a}\")"
   ]
  },
  {
   "cell_type": "code",
   "execution_count": null,
   "id": "4302dccd-4be0-49d8-b508-91864fa5468e",
   "metadata": {},
   "outputs": [],
   "source": [
    "# take the bill_amount =1000\n",
    "# take the tip_percentage =10\n",
    "# calculate tip_amount\n",
    "# calculate the total bill\n",
    "# print the total bill"
   ]
  },
  {
   "cell_type": "code",
   "execution_count": 37,
   "id": "9507f2a3-4719-4056-a3a9-1704ab1a10c2",
   "metadata": {},
   "outputs": [
    {
     "name": "stdout",
     "output_type": "stream",
     "text": [
      "the total bill is 1100.0\n"
     ]
    }
   ],
   "source": [
    "bill_amount=1000\n",
    "tip_per=10\n",
    "tip_amount=bill_amount*tip_per/100\n",
    "t_t=bill_amount+tip_amount\n",
    "print(f\"the total bill is {t_t}\")"
   ]
  },
  {
   "cell_type": "markdown",
   "id": "51933e03-5bd6-432e-aa36-6618dedbd094",
   "metadata": {},
   "source": [
    "***END***"
   ]
  },
  {
   "cell_type": "markdown",
   "id": "cbc36d87-bf36-4e46-aaf9-789fd7640ca4",
   "metadata": {},
   "source": [
    "-combining mutiple print statement in a single line"
   ]
  },
  {
   "cell_type": "code",
   "execution_count": 45,
   "id": "4455428e-4b6b-428e-a37e-fa5f9a75e88b",
   "metadata": {},
   "outputs": [
    {
     "name": "stdout",
     "output_type": "stream",
     "text": [
      "10 20\n"
     ]
    }
   ],
   "source": [
    "print(10,end=' ')\n",
    "print(20)"
   ]
  },
  {
   "cell_type": "code",
   "execution_count": 47,
   "id": "d5ba2b01-27a8-4f93-a696-b8ac527856f0",
   "metadata": {},
   "outputs": [
    {
     "name": "stdout",
     "output_type": "stream",
     "text": [
      "10,20&30\n"
     ]
    }
   ],
   "source": [
    "print(10,end=',')\n",
    "print(20,end='&')\n",
    "print(30)"
   ]
  },
  {
   "cell_type": "markdown",
   "id": "c435ff47-c778-4e9c-9f65-2792e041e46d",
   "metadata": {},
   "source": [
    "***seprator***"
   ]
  },
  {
   "cell_type": "markdown",
   "id": "47187f42-daa0-49a2-99c8-5017ce5c52c5",
   "metadata": {},
   "source": [
    "-seprate the mutiple value in the single line"
   ]
  },
  {
   "cell_type": "code",
   "execution_count": 52,
   "id": "4c0e8d64-f770-43ba-87cf-2133037d2336",
   "metadata": {},
   "outputs": [
    {
     "name": "stdout",
     "output_type": "stream",
     "text": [
      "10---->20---->30---->40\n"
     ]
    }
   ],
   "source": [
    "print(10,20,30,40,sep='---->')"
   ]
  },
  {
   "cell_type": "code",
   "execution_count": 56,
   "id": "35206689-f1c1-4144-88e5-c6e8c5acc63d",
   "metadata": {},
   "outputs": [
    {
     "name": "stdout",
     "output_type": "stream",
     "text": [
      "the addition of 5 and 3 is 8..\n"
     ]
    }
   ],
   "source": [
    "print('the addition of 5 and 3 is 8','..',sep='')"
   ]
  },
  {
   "cell_type": "code",
   "execution_count": 1,
   "id": "13e00701-c24a-4fc4-973d-2d97b24e441d",
   "metadata": {},
   "outputs": [
    {
     "name": "stdout",
     "output_type": "stream",
     "text": [
      "hello everyone\n",
      "how are are you i am fine\n"
     ]
    }
   ],
   "source": [
    "print(\"hello everyone\",end='\\n')\n",
    "print(\"how are are you\",end=' ')\n",
    "print(\"i am fine\")"
   ]
  }
 ],
 "metadata": {
  "kernelspec": {
   "display_name": "Python 3 (ipykernel)",
   "language": "python",
   "name": "python3"
  },
  "language_info": {
   "codemirror_mode": {
    "name": "ipython",
    "version": 3
   },
   "file_extension": ".py",
   "mimetype": "text/x-python",
   "name": "python",
   "nbconvert_exporter": "python",
   "pygments_lexer": "ipython3",
   "version": "3.11.7"
  }
 },
 "nbformat": 4,
 "nbformat_minor": 5
}
