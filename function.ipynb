{
 "cells": [
  {
   "cell_type": "markdown",
   "id": "122d8862-dbf7-42b2-938c-4eddc1d0024d",
   "metadata": {},
   "source": [
    " ***function***\n",
    "- function without argument \n",
    "- function with argument\n",
    "- function with default argument \n",
    "-  global variable vs local variable\n",
    "-  global keyword\n",
    "-  return \n",
    "-  unbounded error\n",
    "-  function in function "
   ]
  },
  {
   "cell_type": "markdown",
   "id": "26a89b93-e627-48d2-b3fc-729adaaf2d51",
   "metadata": {},
   "source": [
    "***function name be anything \n",
    "same rules aplicable as variables***"
   ]
  },
  {
   "cell_type": "markdown",
   "id": "13daf451-b153-4d2e-9c9b-f775c7944e90",
   "metadata": {},
   "source": [
    "***Some Benefits of Using Functions***\n",
    "\n",
    "-Increase Code Readability \n",
    "\n",
    "-Increase Code Reusability"
   ]
  },
  {
   "cell_type": "markdown",
   "id": "4505bcce-5388-4a88-ae94-99b2011dfa7e",
   "metadata": {},
   "source": [
    "***function without arguments***"
   ]
  },
  {
   "cell_type": "code",
   "execution_count": 4,
   "id": "c0e45c1c-b0ed-4bc2-aa79-663d874c244d",
   "metadata": {},
   "outputs": [
    {
     "name": "stdout",
     "output_type": "stream",
     "text": [
      "300\n"
     ]
    }
   ],
   "source": [
    "def addition():\n",
    "    a=100\n",
    "    b=200\n",
    "    add=a+b\n",
    "    print(add)\n",
    "addition()"
   ]
  },
  {
   "cell_type": "code",
   "execution_count": 7,
   "id": "853d19eb-8278-47cf-8932-f67b5da893a0",
   "metadata": {},
   "outputs": [
    {
     "name": "stdout",
     "output_type": "stream",
     "text": [
      "the area of circle is 314.0\n"
     ]
    }
   ],
   "source": [
    "def area():\n",
    "    r=10\n",
    "    a=3.14*r*r\n",
    "    print(f\"the area of circle is {a}\") #this example of hard coding\n",
    "area()"
   ]
  },
  {
   "cell_type": "code",
   "execution_count": 17,
   "id": "cfaece06-5dd3-412b-8446-c07c5ac180d5",
   "metadata": {},
   "outputs": [
    {
     "name": "stdin",
     "output_type": "stream",
     "text": [
      "enter the number 1 12\n",
      "enter the nuuber 2 14\n",
      "enter the numberr 3 20\n"
     ]
    },
    {
     "name": "stdout",
     "output_type": "stream",
     "text": [
      "the average of three number is 0.46\n"
     ]
    }
   ],
   "source": [
    "def average():\n",
    "    num1=eval(input(\"enter the number 1\"))\n",
    "    num2=eval(input(\"enter the nuuber 2\"))\n",
    "    num3=eval(input(\"enter the numberr 3\")) #this example of static coding\n",
    "    avg=(num1+num2+num3)/100\n",
    "    avg1=round(avg,2)\n",
    "    print(f\"the average of three number is {avg1}\")\n",
    "average()"
   ]
  },
  {
   "cell_type": "code",
   "execution_count": 31,
   "id": "90a74082-7e17-41e4-93a2-09ddade1c15e",
   "metadata": {},
   "outputs": [
    {
     "name": "stdin",
     "output_type": "stream",
     "text": [
      "enter the bill amoount 1000\n",
      "enter the tip percentage 10\n"
     ]
    },
    {
     "name": "stdout",
     "output_type": "stream",
     "text": [
      "the total bill is 1100.0\n"
     ]
    }
   ],
   "source": [
    "def bill_amount():\n",
    "    bill=eval(input(\"enter the bill amoount\"))\n",
    "    tip_per=eval(input(\"enter the tip percentage\"))\n",
    "    tip=(bill*tip_per)/100\n",
    "    total_bill=bill+tip\n",
    "    print(f\"the total bill is {total_bill}\")\n",
    "bill_amount()"
   ]
  },
  {
   "cell_type": "code",
   "execution_count": 33,
   "id": "24698091-5b65-464b-ace2-5b45a4ab37a5",
   "metadata": {},
   "outputs": [
    {
     "name": "stdin",
     "output_type": "stream",
     "text": [
      "enter the base of triangle 10\n",
      "enter the height of triangle 10\n"
     ]
    },
    {
     "name": "stdout",
     "output_type": "stream",
     "text": [
      "the area of triangle is 50.0\n"
     ]
    }
   ],
   "source": [
    "def triangle():\n",
    "    base=eval(input(\"enter the base of triangle\"))\n",
    "    height=eval(input(\"enter the height of triangle\"))\n",
    "    area=base*height*0.5\n",
    "    print(f\"the area of triangle is {area}\")\n",
    "triangle()"
   ]
  },
  {
   "cell_type": "code",
   "execution_count": 35,
   "id": "5ada3215-8288-4149-a708-80ba620eae1b",
   "metadata": {},
   "outputs": [
    {
     "name": "stdin",
     "output_type": "stream",
     "text": [
      "enter the length of rec 10\n",
      "enter the breadth of rec 10\n"
     ]
    },
    {
     "name": "stdout",
     "output_type": "stream",
     "text": [
      "the area of rectangle is 100\n"
     ]
    }
   ],
   "source": [
    "def rectangle():\n",
    "    len=eval(input(\"enter the length of rec\"))\n",
    "    ber=eval(input(\"enter the breadth of rec\"))\n",
    "    area=len*ber\n",
    "    print(f\"the area of rectangle is {area}\")\n",
    "rectangle()"
   ]
  },
  {
   "cell_type": "code",
   "execution_count": 39,
   "id": "094c9481-c83e-45ff-8001-f1d5aeb80aba",
   "metadata": {},
   "outputs": [
    {
     "name": "stdin",
     "output_type": "stream",
     "text": [
      "enter the number 1\n"
     ]
    },
    {
     "name": "stdout",
     "output_type": "stream",
     "text": [
      "the 1 is odd\n"
     ]
    }
   ],
   "source": [
    "def even_odd():\n",
    "    num=eval(input(\"enter the number\"))\n",
    "    if num%2==0:\n",
    "        print(f\"the {num} is even\")\n",
    "    else:\n",
    "        print(f\"the {num} is odd\")\n",
    "even_odd()"
   ]
  },
  {
   "cell_type": "code",
   "execution_count": 49,
   "id": "646c0515-4d5b-4c35-93e1-47c558bf7944",
   "metadata": {},
   "outputs": [
    {
     "name": "stdin",
     "output_type": "stream",
     "text": [
      "enter the distance in km  26\n",
      "enter the charge  1\n"
     ]
    },
    {
     "name": "stdout",
     "output_type": "stream",
     "text": [
      "the total cost is 26\n"
     ]
    }
   ],
   "source": [
    "def dis_cal():\n",
    "    dis=eval(input(\"enter the distance in km \"))\n",
    "    if dis>25:\n",
    "        charge=eval(input(\"enter the charge \"))\n",
    "        cost=charge*dis\n",
    "        print(f\"the total cost is {cost}\")\n",
    "    else:\n",
    "        print(\"enjoy the free ride\")\n",
    "dis_cal()"
   ]
  },
  {
   "cell_type": "markdown",
   "id": "1a006f6c-1e32-4f8d-af71-dbb5c5045918",
   "metadata": {},
   "source": [
    "***function wth arguments***"
   ]
  },
  {
   "cell_type": "code",
   "execution_count": 56,
   "id": "2ed7ab00-c131-4dff-abee-1c5459cd53ee",
   "metadata": {},
   "outputs": [
    {
     "name": "stdout",
     "output_type": "stream",
     "text": [
      "30\n"
     ]
    }
   ],
   "source": [
    "def addition(a,b):\n",
    "    add=a+b\n",
    "    print(add)\n",
    "addition(10,20)"
   ]
  },
  {
   "cell_type": "code",
   "execution_count": 58,
   "id": "6c49a6ab-6da3-4b17-8630-17ffd36cda80",
   "metadata": {},
   "outputs": [
    {
     "name": "stdout",
     "output_type": "stream",
     "text": [
      "the area of circle is 314.0\n"
     ]
    }
   ],
   "source": [
    "def area(r):\n",
    "    a=3.14*r*r\n",
    "    print(f\"the area of circle is {a}\") \n",
    "area(10)"
   ]
  },
  {
   "cell_type": "code",
   "execution_count": 60,
   "id": "371932e1-32e8-46f6-81c9-087ab100f9ba",
   "metadata": {},
   "outputs": [
    {
     "name": "stdout",
     "output_type": "stream",
     "text": [
      "the average of three number is 0.6\n"
     ]
    }
   ],
   "source": [
    "def average(num1,num2,num3):\n",
    "    avg=(num1+num2+num3)/100\n",
    "    avg1=round(avg,2)\n",
    "    print(f\"the average of three number is {avg1}\")\n",
    "average(10,20,30)"
   ]
  },
  {
   "cell_type": "code",
   "execution_count": 64,
   "id": "89b80ffe-910f-46e2-8196-3bc3347bc8b3",
   "metadata": {},
   "outputs": [
    {
     "name": "stdout",
     "output_type": "stream",
     "text": [
      "the total bill is 1100.0\n"
     ]
    }
   ],
   "source": [
    "def bill_amount(bill,tip_per):\n",
    "    tip=(bill*tip_per)/100\n",
    "    total_bill=bill+tip\n",
    "    print(f\"the total bill is {total_bill}\")\n",
    "bill_amount(1000,10)"
   ]
  },
  {
   "cell_type": "code",
   "execution_count": 66,
   "id": "c3e11cbf-d682-4fa1-bb9f-411e11372116",
   "metadata": {},
   "outputs": [
    {
     "name": "stdout",
     "output_type": "stream",
     "text": [
      "the area of triangle is 50.0\n"
     ]
    }
   ],
   "source": [
    "def triangle(base,height):\n",
    "    area=base*height*0.5\n",
    "    print(f\"the area of triangle is {area}\")\n",
    "triangle(10,10)"
   ]
  },
  {
   "cell_type": "code",
   "execution_count": 74,
   "id": "f0506641-296e-4cfa-bbb1-8aef74c93872",
   "metadata": {},
   "outputs": [
    {
     "name": "stdout",
     "output_type": "stream",
     "text": [
      "1\n"
     ]
    }
   ],
   "source": [
    "def sub(n1,n2):\n",
    "    subtract=n1-n2\n",
    "    print(subtract)\n",
    "sub(10,9)"
   ]
  },
  {
   "cell_type": "code",
   "execution_count": 101,
   "id": "ad3d5d8a-957b-4579-9a90-8aa17ef1275c",
   "metadata": {},
   "outputs": [
    {
     "name": "stdin",
     "output_type": "stream",
     "text": [
      "enter the length of rec 10\n",
      "enter the breadth of rec 10\n"
     ]
    },
    {
     "name": "stdout",
     "output_type": "stream",
     "text": [
      "the area of rectangle is 100\n"
     ]
    }
   ],
   "source": [
    "def rectangle(len,ber):\n",
    "    area=len*ber\n",
    "    print(f\"the area of rectangle is {area}\")\n",
    "len=eval(input(\"enter the length of rec\"))\n",
    "ber=eval(input(\"enter the breadth of rec\"))\n",
    "rectangle(len,ber)"
   ]
  },
  {
   "cell_type": "code",
   "execution_count": 103,
   "id": "2095dea8-b35c-4845-9e57-c91ec1b42357",
   "metadata": {},
   "outputs": [
    {
     "name": "stdin",
     "output_type": "stream",
     "text": [
      "enter the number 10\n"
     ]
    },
    {
     "name": "stdout",
     "output_type": "stream",
     "text": [
      "the 10 is even\n"
     ]
    }
   ],
   "source": [
    "def even_odd(num):\n",
    "    if num%2==0:\n",
    "        print(f\"the {num} is even\")\n",
    "    else:\n",
    "        print(f\"the {num} is odd\")\n",
    "num=eval(input(\"enter the number\"))\n",
    "even_odd(num)"
   ]
  },
  {
   "cell_type": "code",
   "execution_count": 111,
   "id": "4d3bae5b-1877-4b7c-918f-257713be378f",
   "metadata": {},
   "outputs": [
    {
     "name": "stdin",
     "output_type": "stream",
     "text": [
      "enter the distance in km  26\n",
      "enter the charge  1\n"
     ]
    },
    {
     "name": "stdout",
     "output_type": "stream",
     "text": [
      "the total cost is 26\n"
     ]
    }
   ],
   "source": [
    "def dis_cal(dis):\n",
    "    if dis>25:\n",
    "        charge=eval(input(\"enter the charge \"))\n",
    "        cost=charge*dis\n",
    "        print(f\"the total cost is {cost}\")\n",
    "    else:\n",
    "        print(\"enjoy the free ride\")\n",
    "dis=eval(input(\"enter the distance in km \"))\n",
    "dis_cal(dis)"
   ]
  },
  {
   "cell_type": "markdown",
   "id": "b3f86f21-7434-40cc-8e42-a763e43533c0",
   "metadata": {},
   "source": [
    "***function with default arguments***"
   ]
  },
  {
   "cell_type": "markdown",
   "id": "5958b852-b486-4dcf-9922-634a406df208",
   "metadata": {},
   "source": [
    "- Default argument always at last"
   ]
  },
  {
   "cell_type": "code",
   "execution_count": 121,
   "id": "b5bcbad2-64dd-4376-84b3-634324dfb006",
   "metadata": {},
   "outputs": [
    {
     "name": "stdout",
     "output_type": "stream",
     "text": [
      "the total bill is 1100.0\n"
     ]
    }
   ],
   "source": [
    "def bill_amount(bill,tip_per=10):\n",
    "    tip=(bill*tip_per)/100\n",
    "    total_bill=bill+tip\n",
    "    print(f\"the total bill is {total_bill}\")\n",
    "bill_amount(1000)"
   ]
  },
  {
   "cell_type": "code",
   "execution_count": 125,
   "id": "eba45bcc-996a-4d7f-879d-dd94e40d898b",
   "metadata": {},
   "outputs": [
    {
     "ename": "SyntaxError",
     "evalue": "non-default argument follows default argument (3169770310.py, line 1)",
     "output_type": "error",
     "traceback": [
      "\u001b[1;36m  Cell \u001b[1;32mIn[125], line 1\u001b[1;36m\u001b[0m\n\u001b[1;33m    def bill_amount(bill=1000,tip_per):\u001b[0m\n\u001b[1;37m                              ^\u001b[0m\n\u001b[1;31mSyntaxError\u001b[0m\u001b[1;31m:\u001b[0m non-default argument follows default argument\n"
     ]
    }
   ],
   "source": [
    "def bill_amount(bill=1000,tip_per):\n",
    "    tip=(bill*tip_per)/100\n",
    "    total_bill=bill+tip\n",
    "    print(f\"the total bill is {total_bill}\")\n",
    "bill_amount(10)"
   ]
  },
  {
   "cell_type": "code",
   "execution_count": 1,
   "id": "f0f08cb7-3218-4f4f-8a00-0bac3caa51b5",
   "metadata": {},
   "outputs": [
    {
     "name": "stdout",
     "output_type": "stream",
     "text": [
      "0\n"
     ]
    }
   ],
   "source": [
    "def sub(n1,n2=10):\n",
    "    subtract=n1-n2\n",
    "    print(subtract)\n",
    "sub(10)"
   ]
  },
  {
   "cell_type": "code",
   "execution_count": 7,
   "id": "fede93dd-f04a-4c62-8174-a502a9730a94",
   "metadata": {},
   "outputs": [
    {
     "name": "stdout",
     "output_type": "stream",
     "text": [
      "the average of three number is 0.6\n"
     ]
    }
   ],
   "source": [
    "def average(num1,num2,num3=30):\n",
    "    avg=(num1+num2+num3)/100\n",
    "    avg1=round(avg,2)\n",
    "    print(f\"the average of three number is {avg1}\")\n",
    "average(10,20)"
   ]
  },
  {
   "cell_type": "code",
   "execution_count": 9,
   "id": "345252c3-b4e3-4467-b262-83670d7b69f1",
   "metadata": {},
   "outputs": [
    {
     "name": "stdout",
     "output_type": "stream",
     "text": [
      "the average of three number is 0.6\n"
     ]
    }
   ],
   "source": [
    "def average(num1,num2=20,num3=30):\n",
    "    avg=(num1+num2+num3)/100\n",
    "    avg1=round(avg,2)\n",
    "    print(f\"the average of three number is {avg1}\")\n",
    "average(10)"
   ]
  },
  {
   "cell_type": "code",
   "execution_count": 11,
   "id": "5bfa45f3-9833-44f7-8fd4-b4b385272252",
   "metadata": {},
   "outputs": [
    {
     "name": "stdout",
     "output_type": "stream",
     "text": [
      "the average of three number is 0.6\n"
     ]
    }
   ],
   "source": [
    "def average(num1=10,num2=20,num3=30):\n",
    "    avg=(num1+num2+num3)/100\n",
    "    avg1=round(avg,2)\n",
    "    print(f\"the average of three number is {avg1}\")\n",
    "average()"
   ]
  },
  {
   "cell_type": "code",
   "execution_count": 3,
   "id": "ede56c4a-38f6-41c7-a13d-f0810669533c",
   "metadata": {},
   "outputs": [
    {
     "name": "stdout",
     "output_type": "stream",
     "text": [
      "110\n"
     ]
    }
   ],
   "source": [
    "#case 1\n",
    "def addition(a,b=100):\n",
    "    c=a+b\n",
    "    print(c)\n",
    "addition(10) #in this case we provide default argument b=100"
   ]
  },
  {
   "cell_type": "code",
   "execution_count": 5,
   "id": "ed2c6180-2971-4b3c-a2fd-0d0d5bbb8607",
   "metadata": {},
   "outputs": [
    {
     "name": "stdout",
     "output_type": "stream",
     "text": [
      "30\n"
     ]
    }
   ],
   "source": [
    "#case 2\n",
    "def addition(a,b=100): #define the function \n",
    "    c=a+b              #during defining the function we have b=100\n",
    "    print(c)           #now we are calling the function we have b=20 values can be overwrite \n",
    "addition(10,20)       #python take always lastest value 10+20=30"
   ]
  },
  {
   "cell_type": "code",
   "execution_count": 7,
   "id": "f92c9e65-b8ff-4d3c-ad23-0db46df6a78c",
   "metadata": {},
   "outputs": [
    {
     "name": "stdout",
     "output_type": "stream",
     "text": [
      "40\n"
     ]
    }
   ],
   "source": [
    "#case 3\n",
    "def addition(a,b=100): #define the function\n",
    "    b=30               #during defining the function we have b=100\n",
    "    c=a+b              #now we are call the function we have b=20\n",
    "    print(c)           #while calling the function we have b=30 values can be overwrite\n",
    "addition(10,20)        #oythn tkae always take lastest value 10+30=40"
   ]
  },
  {
   "cell_type": "code",
   "execution_count": 11,
   "id": "b43e253b-a864-435a-8fb3-45797015d012",
   "metadata": {},
   "outputs": [
    {
     "name": "stdout",
     "output_type": "stream",
     "text": [
      "40\n"
     ]
    }
   ],
   "source": [
    "#case 4\n",
    "def addition(a,b=10): #define the function we have b=10 -->b--10--->20---->30\n",
    "    b=30\n",
    "    c=a+b              #10+20=40\n",
    "    print(c)\n",
    "    b=20\n",
    "addition(10,10)"
   ]
  },
  {
   "cell_type": "code",
   "execution_count": null,
   "id": "8add52dc-fe47-46c4-9341-e321763062dc",
   "metadata": {},
   "outputs": [],
   "source": [
    "#case 5\n",
    "def "
   ]
  },
  {
   "cell_type": "code",
   "execution_count": 13,
   "id": "cac159d7-fa6e-4258-a144-b7f249403fa3",
   "metadata": {},
   "outputs": [
    {
     "ename": "UnboundLocalError",
     "evalue": "cannot access local variable 's' where it is not associated with a value",
     "output_type": "error",
     "traceback": [
      "\u001b[1;31m---------------------------------------------------------------------------\u001b[0m",
      "\u001b[1;31mUnboundLocalError\u001b[0m                         Traceback (most recent call last)",
      "Cell \u001b[1;32mIn[13], line 6\u001b[0m\n\u001b[0;32m      4\u001b[0m     s\u001b[38;5;241m=\u001b[39mc\n\u001b[0;32m      5\u001b[0m     \u001b[38;5;28mprint\u001b[39m(s)\n\u001b[1;32m----> 6\u001b[0m add()\n",
      "Cell \u001b[1;32mIn[13], line 3\u001b[0m, in \u001b[0;36madd\u001b[1;34m()\u001b[0m\n\u001b[0;32m      2\u001b[0m \u001b[38;5;28;01mdef\u001b[39;00m \u001b[38;5;21madd\u001b[39m():\n\u001b[1;32m----> 3\u001b[0m     c\u001b[38;5;241m=\u001b[39ms\u001b[38;5;241m+\u001b[39m\u001b[38;5;241m10\u001b[39m\n\u001b[0;32m      4\u001b[0m     s\u001b[38;5;241m=\u001b[39mc\n\u001b[0;32m      5\u001b[0m     \u001b[38;5;28mprint\u001b[39m(s)\n",
      "\u001b[1;31mUnboundLocalError\u001b[0m: cannot access local variable 's' where it is not associated with a value"
     ]
    }
   ],
   "source": [
    "s=0\n",
    "def add():\n",
    "    c=s+10\n",
    "    s=c\n",
    "    print(s)\n",
    "add()\n",
    "#step_1 : s=0\n",
    "# step-2: define the function\n",
    "# step-3: call the function\n",
    "# step-4: run the function\n",
    "# c is lv : c= s+10 = c=10\n",
    "# we are creating a new variable same like as global s\n",
    "# we are creating a new variable with same name as global variable\n",
    "# by using global variable"
   ]
  },
  {
   "cell_type": "code",
   "execution_count": 31,
   "id": "0b0260b2-c49b-42ec-bc18-751c697c0443",
   "metadata": {},
   "outputs": [
    {
     "name": "stdout",
     "output_type": "stream",
     "text": [
      "70\n"
     ]
    }
   ],
   "source": [
    "def add():\n",
    "    global a,b\n",
    "    a=30\n",
    "    b=40\n",
    "    c=a+b\n",
    "    print(c)\n",
    "add()"
   ]
  },
  {
   "cell_type": "code",
   "execution_count": 33,
   "id": "ad465b29-41fb-4cc5-ba36-be0b111a3f6b",
   "metadata": {},
   "outputs": [
    {
     "name": "stdout",
     "output_type": "stream",
     "text": [
      "40\n"
     ]
    }
   ],
   "source": [
    "a=10\n",
    "def add():\n",
    "    global a\n",
    "    b=30\n",
    "    c=a+b\n",
    "    print(c)\n",
    "add()"
   ]
  },
  {
   "cell_type": "code",
   "execution_count": 35,
   "id": "0a2fc01b-340a-4b37-acdc-46f9300cd4e6",
   "metadata": {},
   "outputs": [
    {
     "name": "stdout",
     "output_type": "stream",
     "text": [
      "30\n"
     ]
    }
   ],
   "source": [
    "a=10\n",
    "b=20\n",
    "def add():\n",
    "    global a,b\n",
    "    c=a+b\n",
    "    print(c)\n",
    "add()"
   ]
  },
  {
   "cell_type": "code",
   "execution_count": 37,
   "id": "2f0ca31b-2bc1-4d80-aa34-31349ac12601",
   "metadata": {},
   "outputs": [
    {
     "name": "stdout",
     "output_type": "stream",
     "text": [
      "30\n"
     ]
    }
   ],
   "source": [
    "b=20\n",
    "def add():\n",
    "    global b\n",
    "    a=10\n",
    "    c=a+b\n",
    "    print(c)\n",
    "add()"
   ]
  },
  {
   "cell_type": "code",
   "execution_count": 59,
   "id": "1e5fadf3-459f-4518-ba04-2a5cf5e51dd1",
   "metadata": {},
   "outputs": [],
   "source": [
    "def add():\n",
    "    a=10\n",
    "    b=20\n",
    "    c=a+b\n",
    "    return(c,b)\n",
    "c,b=add()"
   ]
  },
  {
   "cell_type": "code",
   "execution_count": 61,
   "id": "fce579c8-c5f0-49be-bdcf-22f28b71dc18",
   "metadata": {},
   "outputs": [
    {
     "name": "stdout",
     "output_type": "stream",
     "text": [
      "30\n",
      "20\n"
     ]
    }
   ],
   "source": [
    "print(c)\n",
    "print(b)"
   ]
  },
  {
   "cell_type": "code",
   "execution_count": 65,
   "id": "2e8df3b8-9886-4c63-a748-27d333fb5f37",
   "metadata": {},
   "outputs": [
    {
     "name": "stdout",
     "output_type": "stream",
     "text": [
      "20.0\n"
     ]
    },
    {
     "data": {
      "text/plain": [
       "(20, 20.0)"
      ]
     },
     "execution_count": 65,
     "metadata": {},
     "output_type": "execute_result"
    }
   ],
   "source": [
    "def avg():\n",
    "    a=10\n",
    "    b=20\n",
    "    c=30\n",
    "    avg1=(a+b+c)/3\n",
    "    print(avg1)\n",
    "    return(b,avg1)\n",
    "avg()"
   ]
  },
  {
   "cell_type": "code",
   "execution_count": 75,
   "id": "6e93b3b9-7cf4-41fc-a20e-0496ce08ddfe",
   "metadata": {},
   "outputs": [
    {
     "name": "stdout",
     "output_type": "stream",
     "text": [
      "20.0\n"
     ]
    }
   ],
   "source": [
    "def avg():\n",
    "    a=10\n",
    "    b=20\n",
    "    c=30\n",
    "    avg2=(a+b+c)/3\n",
    "    print(avg2)\n",
    "    return(a,b,avg2)\n",
    "a,b,avg2=avg()"
   ]
  },
  {
   "cell_type": "code",
   "execution_count": 77,
   "id": "fd135727-088f-4369-ac12-7038313893e7",
   "metadata": {},
   "outputs": [
    {
     "name": "stdout",
     "output_type": "stream",
     "text": [
      "10 20 20.0\n"
     ]
    }
   ],
   "source": [
    "print(a,b,avg2)"
   ]
  },
  {
   "cell_type": "code",
   "execution_count": null,
   "id": "9578694c-fcb6-44e8-ac25-a02ad553a037",
   "metadata": {},
   "outputs": [],
   "source": [
    "in realtime project return function is use "
   ]
  },
  {
   "cell_type": "code",
   "execution_count": null,
   "id": "955baf3f-3a96-4d23-aa4a-77e6767c51f2",
   "metadata": {},
   "outputs": [],
   "source": []
  }
 ],
 "metadata": {
  "kernelspec": {
   "display_name": "Python 3 (ipykernel)",
   "language": "python",
   "name": "python3"
  },
  "language_info": {
   "codemirror_mode": {
    "name": "ipython",
    "version": 3
   },
   "file_extension": ".py",
   "mimetype": "text/x-python",
   "name": "python",
   "nbconvert_exporter": "python",
   "pygments_lexer": "ipython3",
   "version": "3.11.7"
  }
 },
 "nbformat": 4,
 "nbformat_minor": 5
}
