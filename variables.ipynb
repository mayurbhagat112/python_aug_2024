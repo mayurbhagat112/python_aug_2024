{
 "cells": [
  {
   "cell_type": "code",
   "execution_count": 1,
   "id": "b09a2a4c-fdd4-4c38-9edc-1ca520475c14",
   "metadata": {},
   "outputs": [],
   "source": [
    "num=100"
   ]
  },
  {
   "cell_type": "code",
   "execution_count": 3,
   "id": "6d7eae69-22ae-4d5a-8843-e3ab518b910f",
   "metadata": {},
   "outputs": [],
   "source": [
    "Num=100"
   ]
  },
  {
   "cell_type": "code",
   "execution_count": 5,
   "id": "834ee734-dda7-4323-b119-2f1a9e29ec74",
   "metadata": {},
   "outputs": [
    {
     "data": {
      "text/plain": [
       "100"
      ]
     },
     "execution_count": 5,
     "metadata": {},
     "output_type": "execute_result"
    }
   ],
   "source": [
    "Num"
   ]
  },
  {
   "cell_type": "code",
   "execution_count": 7,
   "id": "58ab7675-c09b-48bb-ad68-1417e09c8727",
   "metadata": {},
   "outputs": [],
   "source": [
    "num=200"
   ]
  },
  {
   "cell_type": "code",
   "execution_count": 11,
   "id": "242ec20d-4a8b-4cab-b00b-012ef7c3b223",
   "metadata": {},
   "outputs": [],
   "source": [
    "num=300"
   ]
  },
  {
   "cell_type": "code",
   "execution_count": 13,
   "id": "d1c939b9-fdcf-4a1e-a4e9-6f7aa8c7d1d2",
   "metadata": {},
   "outputs": [
    {
     "data": {
      "text/plain": [
       "300"
      ]
     },
     "execution_count": 13,
     "metadata": {},
     "output_type": "execute_result"
    }
   ],
   "source": [
    "num"
   ]
  },
  {
   "cell_type": "code",
   "execution_count": 15,
   "id": "2f5aafbe-2202-492e-a461-73f021561f99",
   "metadata": {},
   "outputs": [],
   "source": [
    "_=100"
   ]
  },
  {
   "cell_type": "code",
   "execution_count": 17,
   "id": "cd66cbac-945f-48a8-ba62-7c56bbbf3848",
   "metadata": {},
   "outputs": [
    {
     "data": {
      "text/plain": [
       "100"
      ]
     },
     "execution_count": 17,
     "metadata": {},
     "output_type": "execute_result"
    }
   ],
   "source": [
    "_"
   ]
  },
  {
   "cell_type": "code",
   "execution_count": 19,
   "id": "23627f08-421e-45c4-9b54-4e4d4bfa9599",
   "metadata": {},
   "outputs": [
    {
     "ename": "SyntaxError",
     "evalue": "cannot assign to expression here. Maybe you meant '==' instead of '='? (3921059183.py, line 1)",
     "output_type": "error",
     "traceback": [
      "\u001b[1;36m  Cell \u001b[1;32mIn[19], line 1\u001b[1;36m\u001b[0m\n\u001b[1;33m    num%ber=100\u001b[0m\n\u001b[1;37m    ^\u001b[0m\n\u001b[1;31mSyntaxError\u001b[0m\u001b[1;31m:\u001b[0m cannot assign to expression here. Maybe you meant '==' instead of '='?\n"
     ]
    }
   ],
   "source": [
    "num%ber=100"
   ]
  },
  {
   "cell_type": "code",
   "execution_count": 21,
   "id": "290d7008-ffd4-414d-83d6-d69da1c9e3be",
   "metadata": {},
   "outputs": [],
   "source": [
    "num123=100"
   ]
  },
  {
   "cell_type": "code",
   "execution_count": 23,
   "id": "e2d6801e-3ac0-4ce3-9149-98b4517f0c4a",
   "metadata": {},
   "outputs": [
    {
     "data": {
      "text/plain": [
       "100"
      ]
     },
     "execution_count": 23,
     "metadata": {},
     "output_type": "execute_result"
    }
   ],
   "source": [
    "num123"
   ]
  },
  {
   "cell_type": "code",
   "execution_count": 25,
   "id": "b9a4bec6-0a9a-4986-bc51-88748b2e5b51",
   "metadata": {},
   "outputs": [
    {
     "ename": "SyntaxError",
     "evalue": "invalid decimal literal (842848266.py, line 1)",
     "output_type": "error",
     "traceback": [
      "\u001b[1;36m  Cell \u001b[1;32mIn[25], line 1\u001b[1;36m\u001b[0m\n\u001b[1;33m    123num=123\u001b[0m\n\u001b[1;37m      ^\u001b[0m\n\u001b[1;31mSyntaxError\u001b[0m\u001b[1;31m:\u001b[0m invalid decimal literal\n"
     ]
    }
   ],
   "source": [
    "123num=123"
   ]
  },
  {
   "cell_type": "code",
   "execution_count": 27,
   "id": "c349c76c-724e-4737-9cba-774cf15fb9af",
   "metadata": {},
   "outputs": [
    {
     "ename": "SyntaxError",
     "evalue": "invalid syntax (837545044.py, line 1)",
     "output_type": "error",
     "traceback": [
      "\u001b[1;36m  Cell \u001b[1;32mIn[27], line 1\u001b[1;36m\u001b[0m\n\u001b[1;33m    nu m=100\u001b[0m\n\u001b[1;37m       ^\u001b[0m\n\u001b[1;31mSyntaxError\u001b[0m\u001b[1;31m:\u001b[0m invalid syntax\n"
     ]
    }
   ],
   "source": [
    "nu m=100"
   ]
  },
  {
   "cell_type": "code",
   "execution_count": 29,
   "id": "4dae6dd7-5da5-482f-924c-10eb6b97a4e2",
   "metadata": {},
   "outputs": [
    {
     "ename": "SyntaxError",
     "evalue": "invalid syntax (586179600.py, line 1)",
     "output_type": "error",
     "traceback": [
      "\u001b[1;36m  Cell \u001b[1;32mIn[29], line 1\u001b[1;36m\u001b[0m\n\u001b[1;33m    if=100\u001b[0m\n\u001b[1;37m      ^\u001b[0m\n\u001b[1;31mSyntaxError\u001b[0m\u001b[1;31m:\u001b[0m invalid syntax\n"
     ]
    }
   ],
   "source": [
    "if=100"
   ]
  },
  {
   "cell_type": "code",
   "execution_count": null,
   "id": "9672ee54-b5da-40fc-9042-bd5700377b68",
   "metadata": {},
   "outputs": [],
   "source": [
    "num=100\n",
    "Num=100\n",
    "num123=123      #all variable name are work \n",
    "_=100\n",
    "num_a=100\n",
    "num=(500)"
   ]
  },
  {
   "cell_type": "code",
   "execution_count": null,
   "id": "c3bb33b8-f7c3-43b8-88a0-a7234badd4ff",
   "metadata": {},
   "outputs": [],
   "source": [
    "123num=100\n",
    "num a=100\n",
    "num%ber=100      #this variable name not work \n",
    "if=100\n",
    "False=100\n",
    "True=100\n",
    "123=100\n",
    "  =1274\n",
    "@mayur=100"
   ]
  },
  {
   "cell_type": "code",
   "execution_count": 43,
   "id": "b58ee5b8-1ae8-494f-9379-d238822fb178",
   "metadata": {},
   "outputs": [],
   "source": [
    "a=5^2"
   ]
  },
  {
   "cell_type": "code",
   "execution_count": 45,
   "id": "7f18ed72-5642-4c37-b102-0e335d1f499a",
   "metadata": {},
   "outputs": [
    {
     "data": {
      "text/plain": [
       "7"
      ]
     },
     "execution_count": 45,
     "metadata": {},
     "output_type": "execute_result"
    }
   ],
   "source": [
    "a"
   ]
  },
  {
   "cell_type": "code",
   "execution_count": null,
   "id": "af4ef5ae-757b-43c0-ad05-d579c0ec4a82",
   "metadata": {},
   "outputs": [],
   "source": [
    "Here’s the breakdown of the bitwise XOR operation:\n",
    "\n",
    "In binary, 5 is 101.\n",
    "In binary, 2 is 010.\n",
    "The XOR of 101 and 010 results in 111, which is 7 in decimal.\n",
    "Thus, 5 ^ 2 evaluates to 7"
   ]
  },
  {
   "cell_type": "code",
   "execution_count": 51,
   "id": "1c240d72-d7b1-45c2-9bd2-2b32a58cf0d9",
   "metadata": {},
   "outputs": [],
   "source": [
    "a=10&2"
   ]
  },
  {
   "cell_type": "code",
   "execution_count": 53,
   "id": "166ad067-95ff-40f4-a6da-91057bfe0538",
   "metadata": {},
   "outputs": [
    {
     "data": {
      "text/plain": [
       "2"
      ]
     },
     "execution_count": 53,
     "metadata": {},
     "output_type": "execute_result"
    }
   ],
   "source": [
    "a"
   ]
  },
  {
   "cell_type": "code",
   "execution_count": null,
   "id": "75152f8e-5845-4d10-9b2a-415c67acaa4c",
   "metadata": {},
   "outputs": [],
   "source": []
  }
 ],
 "metadata": {
  "kernelspec": {
   "display_name": "Python 3 (ipykernel)",
   "language": "python",
   "name": "python3"
  },
  "language_info": {
   "codemirror_mode": {
    "name": "ipython",
    "version": 3
   },
   "file_extension": ".py",
   "mimetype": "text/x-python",
   "name": "python",
   "nbconvert_exporter": "python",
   "pygments_lexer": "ipython3",
   "version": "3.11.7"
  }
 },
 "nbformat": 4,
 "nbformat_minor": 5
}
