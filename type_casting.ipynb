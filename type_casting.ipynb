{
 "cells": [
  {
   "cell_type": "code",
   "execution_count": 5,
   "id": "92b69202-d29e-4222-a376-444c768af714",
   "metadata": {},
   "outputs": [],
   "source": [
    "true=True"
   ]
  },
  {
   "cell_type": "code",
   "execution_count": 7,
   "id": "467a8d40-a605-436d-9747-444eb246adc3",
   "metadata": {},
   "outputs": [
    {
     "data": {
      "text/plain": [
       "True"
      ]
     },
     "execution_count": 7,
     "metadata": {},
     "output_type": "execute_result"
    }
   ],
   "source": [
    "true"
   ]
  },
  {
   "cell_type": "code",
   "execution_count": 9,
   "id": "fad3e62f-d74d-4a43-bc07-a95ab6ec2e2f",
   "metadata": {},
   "outputs": [
    {
     "data": {
      "text/plain": [
       "bool"
      ]
     },
     "execution_count": 9,
     "metadata": {},
     "output_type": "execute_result"
    }
   ],
   "source": [
    "type(true)"
   ]
  },
  {
   "cell_type": "code",
   "execution_count": null,
   "id": "734a3676-88e0-4fe6-9796-9e1e8301a2cc",
   "metadata": {},
   "outputs": [],
   "source": [
    "general syntax\n",
    "variable_name=datatype(old variable)"
   ]
  },
  {
   "cell_type": "markdown",
   "id": "647251da-8096-4e2f-8d0e-8e0ec3746400",
   "metadata": {},
   "source": [
    "***int--->float,str,bool***"
   ]
  },
  {
   "cell_type": "code",
   "execution_count": 14,
   "id": "f6d20fcc-1743-40ed-9024-44f709dbbec0",
   "metadata": {},
   "outputs": [],
   "source": [
    "num=100"
   ]
  },
  {
   "cell_type": "code",
   "execution_count": 16,
   "id": "166172b2-1cbd-4f60-a7ae-962c1e723107",
   "metadata": {},
   "outputs": [
    {
     "data": {
      "text/plain": [
       "100"
      ]
     },
     "execution_count": 16,
     "metadata": {},
     "output_type": "execute_result"
    }
   ],
   "source": [
    "num"
   ]
  },
  {
   "cell_type": "code",
   "execution_count": 18,
   "id": "fe975f1d-f515-4733-91a5-b62404c762f1",
   "metadata": {},
   "outputs": [],
   "source": [
    "dj=float(num)"
   ]
  },
  {
   "cell_type": "code",
   "execution_count": 20,
   "id": "2608c319-776d-4c7d-885d-5beb6efeb859",
   "metadata": {},
   "outputs": [
    {
     "data": {
      "text/plain": [
       "100.0"
      ]
     },
     "execution_count": 20,
     "metadata": {},
     "output_type": "execute_result"
    }
   ],
   "source": [
    "dj"
   ]
  },
  {
   "cell_type": "code",
   "execution_count": 24,
   "id": "d3a3ca20-529f-46f1-8201-a556b47b26a4",
   "metadata": {},
   "outputs": [
    {
     "name": "stdout",
     "output_type": "stream",
     "text": [
      "<class 'float'>\n"
     ]
    }
   ],
   "source": [
    "print(type(dj))"
   ]
  },
  {
   "cell_type": "code",
   "execution_count": 26,
   "id": "df458c03-146c-43f1-9d97-90ffbdb3e3bf",
   "metadata": {},
   "outputs": [
    {
     "name": "stdout",
     "output_type": "stream",
     "text": [
      "<class 'int'>\n"
     ]
    }
   ],
   "source": [
    "print(type(num))"
   ]
  },
  {
   "cell_type": "code",
   "execution_count": 28,
   "id": "47db5c2a-d105-4fce-a48a-5d6b4f61a08e",
   "metadata": {},
   "outputs": [],
   "source": [
    "djj=str(num)"
   ]
  },
  {
   "cell_type": "code",
   "execution_count": 30,
   "id": "ec2e55cb-92c0-42d4-b02f-406643e0e73e",
   "metadata": {},
   "outputs": [
    {
     "data": {
      "text/plain": [
       "'100'"
      ]
     },
     "execution_count": 30,
     "metadata": {},
     "output_type": "execute_result"
    }
   ],
   "source": [
    "djj"
   ]
  },
  {
   "cell_type": "code",
   "execution_count": 32,
   "id": "91870a0d-5f83-4cc7-83f9-f8c038f5f71f",
   "metadata": {},
   "outputs": [],
   "source": [
    "com=bool(num)"
   ]
  },
  {
   "cell_type": "code",
   "execution_count": 34,
   "id": "6080f6d1-582e-49dd-ae8d-11d82a1109c2",
   "metadata": {},
   "outputs": [
    {
     "data": {
      "text/plain": [
       "True"
      ]
     },
     "execution_count": 34,
     "metadata": {},
     "output_type": "execute_result"
    }
   ],
   "source": [
    "com"
   ]
  },
  {
   "cell_type": "code",
   "execution_count": 16,
   "id": "fa53e934-1132-402c-b86c-a1cc4a6d4474",
   "metadata": {},
   "outputs": [
    {
     "data": {
      "text/plain": [
       "True"
      ]
     },
     "execution_count": 16,
     "metadata": {},
     "output_type": "execute_result"
    }
   ],
   "source": [
    "num9=0.001\n",
    "num10=bool(num9)\n",
    "num10"
   ]
  },
  {
   "cell_type": "markdown",
   "id": "af0a234f-c7d9-46c2-a4ad-f1a667f13005",
   "metadata": {},
   "source": [
    "***float--->int,str,bool***"
   ]
  },
  {
   "cell_type": "code",
   "execution_count": 2,
   "id": "aadaef1f-77c4-43af-84c2-3995da34f36a",
   "metadata": {},
   "outputs": [],
   "source": [
    "num=900.50"
   ]
  },
  {
   "cell_type": "code",
   "execution_count": 4,
   "id": "7c63e865-f422-4a10-a359-8b0a6814db8b",
   "metadata": {},
   "outputs": [],
   "source": [
    "num1=int(num)"
   ]
  },
  {
   "cell_type": "code",
   "execution_count": 6,
   "id": "17e14c94-d4f2-4871-aa2b-c1da3e1148d5",
   "metadata": {},
   "outputs": [
    {
     "data": {
      "text/plain": [
       "900"
      ]
     },
     "execution_count": 6,
     "metadata": {},
     "output_type": "execute_result"
    }
   ],
   "source": [
    "num1"
   ]
  },
  {
   "cell_type": "code",
   "execution_count": 8,
   "id": "a3727445-a4cd-42e5-b049-48007361a167",
   "metadata": {},
   "outputs": [
    {
     "data": {
      "text/plain": [
       "'900.5'"
      ]
     },
     "execution_count": 8,
     "metadata": {},
     "output_type": "execute_result"
    }
   ],
   "source": [
    "num2=str(num)\n",
    "num2"
   ]
  },
  {
   "cell_type": "code",
   "execution_count": 10,
   "id": "52ac2c22-2047-43f7-8783-45f83459a6d7",
   "metadata": {},
   "outputs": [
    {
     "data": {
      "text/plain": [
       "True"
      ]
     },
     "execution_count": 10,
     "metadata": {},
     "output_type": "execute_result"
    }
   ],
   "source": [
    "num3=bool(num)\n",
    "num3"
   ]
  },
  {
   "cell_type": "code",
   "execution_count": 14,
   "id": "2642d24a-a991-45f3-8f7d-a2387ddc338f",
   "metadata": {},
   "outputs": [
    {
     "data": {
      "text/plain": [
       "False"
      ]
     },
     "execution_count": 14,
     "metadata": {},
     "output_type": "execute_result"
    }
   ],
   "source": [
    "num1=0\n",
    "num4=bool(num1)\n",
    "num4"
   ]
  },
  {
   "cell_type": "markdown",
   "id": "81164fdc-3dbe-4280-a922-6be9acc38ef9",
   "metadata": {},
   "source": [
    "***str--->int,float,bool***"
   ]
  },
  {
   "cell_type": "code",
   "execution_count": 19,
   "id": "3ddadfd3-e7c1-4434-adb0-39f8a1eaee75",
   "metadata": {},
   "outputs": [],
   "source": [
    "str='apple'"
   ]
  },
  {
   "cell_type": "code",
   "execution_count": 21,
   "id": "6e208681-94d3-4733-873a-6a49249c9f71",
   "metadata": {},
   "outputs": [
    {
     "ename": "ValueError",
     "evalue": "invalid literal for int() with base 10: 'apple'",
     "output_type": "error",
     "traceback": [
      "\u001b[1;31m---------------------------------------------------------------------------\u001b[0m",
      "\u001b[1;31mValueError\u001b[0m                                Traceback (most recent call last)",
      "Cell \u001b[1;32mIn[21], line 1\u001b[0m\n\u001b[1;32m----> 1\u001b[0m str1\u001b[38;5;241m=\u001b[39m\u001b[38;5;28mint\u001b[39m(\u001b[38;5;28mstr\u001b[39m)\n",
      "\u001b[1;31mValueError\u001b[0m: invalid literal for int() with base 10: 'apple'"
     ]
    }
   ],
   "source": [
    "str1=int(str)"
   ]
  },
  {
   "cell_type": "code",
   "execution_count": 23,
   "id": "ced6ba4d-7152-4744-8621-c65de93fa402",
   "metadata": {},
   "outputs": [
    {
     "ename": "ValueError",
     "evalue": "could not convert string to float: 'apple'",
     "output_type": "error",
     "traceback": [
      "\u001b[1;31m---------------------------------------------------------------------------\u001b[0m",
      "\u001b[1;31mValueError\u001b[0m                                Traceback (most recent call last)",
      "Cell \u001b[1;32mIn[23], line 1\u001b[0m\n\u001b[1;32m----> 1\u001b[0m str2\u001b[38;5;241m=\u001b[39m\u001b[38;5;28mfloat\u001b[39m(\u001b[38;5;28mstr\u001b[39m)\n",
      "\u001b[1;31mValueError\u001b[0m: could not convert string to float: 'apple'"
     ]
    }
   ],
   "source": [
    "str2=float(str)"
   ]
  },
  {
   "cell_type": "code",
   "execution_count": 25,
   "id": "1de2ab8c-bc09-4851-a61c-07300709e499",
   "metadata": {},
   "outputs": [
    {
     "data": {
      "text/plain": [
       "True"
      ]
     },
     "execution_count": 25,
     "metadata": {},
     "output_type": "execute_result"
    }
   ],
   "source": [
    "str3=bool(str)\n",
    "str3"
   ]
  },
  {
   "cell_type": "code",
   "execution_count": 29,
   "id": "d9b0f34b-a7c4-4ce3-a775-905e1120bbc3",
   "metadata": {},
   "outputs": [
    {
     "data": {
      "text/plain": [
       "False"
      ]
     },
     "execution_count": 29,
     "metadata": {},
     "output_type": "execute_result"
    }
   ],
   "source": [
    "str4=''\n",
    "str5=bool(str4)\n",
    "str5"
   ]
  },
  {
   "cell_type": "code",
   "execution_count": 31,
   "id": "275a8b91-1194-4f42-a8a0-a7cccbd46a33",
   "metadata": {},
   "outputs": [
    {
     "data": {
      "text/plain": [
       "100"
      ]
     },
     "execution_count": 31,
     "metadata": {},
     "output_type": "execute_result"
    }
   ],
   "source": [
    "str='100'\n",
    "str1=int(str)\n",
    "str1"
   ]
  },
  {
   "cell_type": "code",
   "execution_count": 33,
   "id": "2d998821-a84d-4030-bb96-d2b27d90e916",
   "metadata": {},
   "outputs": [
    {
     "data": {
      "text/plain": [
       "100.0"
      ]
     },
     "execution_count": 33,
     "metadata": {},
     "output_type": "execute_result"
    }
   ],
   "source": [
    "str2=float(str)\n",
    "str2"
   ]
  },
  {
   "cell_type": "code",
   "execution_count": 37,
   "id": "f91a1a5d-5aec-457d-8fc9-48b18de27d43",
   "metadata": {},
   "outputs": [
    {
     "data": {
      "text/plain": [
       "True"
      ]
     },
     "execution_count": 37,
     "metadata": {},
     "output_type": "execute_result"
    }
   ],
   "source": [
    "str3=bool(str)\n",
    "str3"
   ]
  },
  {
   "cell_type": "code",
   "execution_count": 39,
   "id": "52cbdf02-0384-4dde-8005-e4d5262faf3f",
   "metadata": {},
   "outputs": [],
   "source": [
    "str='11.25'"
   ]
  },
  {
   "cell_type": "code",
   "execution_count": 41,
   "id": "82892321-f7b5-4914-bfde-086ffa098591",
   "metadata": {},
   "outputs": [
    {
     "ename": "ValueError",
     "evalue": "invalid literal for int() with base 10: '11.25'",
     "output_type": "error",
     "traceback": [
      "\u001b[1;31m---------------------------------------------------------------------------\u001b[0m",
      "\u001b[1;31mValueError\u001b[0m                                Traceback (most recent call last)",
      "Cell \u001b[1;32mIn[41], line 1\u001b[0m\n\u001b[1;32m----> 1\u001b[0m str1\u001b[38;5;241m=\u001b[39m\u001b[38;5;28mint\u001b[39m(\u001b[38;5;28mstr\u001b[39m)\n",
      "\u001b[1;31mValueError\u001b[0m: invalid literal for int() with base 10: '11.25'"
     ]
    }
   ],
   "source": [
    "str1=int(str)"
   ]
  },
  {
   "cell_type": "code",
   "execution_count": 43,
   "id": "100c39e2-f71f-4619-a788-7a9f379ea6cc",
   "metadata": {},
   "outputs": [],
   "source": [
    "str2=float(str)"
   ]
  },
  {
   "cell_type": "code",
   "execution_count": 45,
   "id": "4c806afd-ebc8-4ddd-8865-1f1a8d80cba2",
   "metadata": {},
   "outputs": [
    {
     "data": {
      "text/plain": [
       "11.25"
      ]
     },
     "execution_count": 45,
     "metadata": {},
     "output_type": "execute_result"
    }
   ],
   "source": [
    "str2"
   ]
  },
  {
   "cell_type": "code",
   "execution_count": 47,
   "id": "6b3fe3ad-28d6-4e9a-b389-b8413cca275f",
   "metadata": {},
   "outputs": [],
   "source": [
    "str3=bool(str)"
   ]
  },
  {
   "cell_type": "code",
   "execution_count": 49,
   "id": "02ebdaba-fcba-4b4a-96d6-98d88cbf1970",
   "metadata": {},
   "outputs": [
    {
     "data": {
      "text/plain": [
       "True"
      ]
     },
     "execution_count": 49,
     "metadata": {},
     "output_type": "execute_result"
    }
   ],
   "source": [
    "str3"
   ]
  },
  {
   "cell_type": "code",
   "execution_count": null,
   "id": "d155572c-c37e-4ec4-a302-cb890acc5487",
   "metadata": {},
   "outputs": [],
   "source": []
  }
 ],
 "metadata": {
  "kernelspec": {
   "display_name": "Python 3 (ipykernel)",
   "language": "python",
   "name": "python3"
  },
  "language_info": {
   "codemirror_mode": {
    "name": "ipython",
    "version": 3
   },
   "file_extension": ".py",
   "mimetype": "text/x-python",
   "name": "python",
   "nbconvert_exporter": "python",
   "pygments_lexer": "ipython3",
   "version": "3.11.7"
  }
 },
 "nbformat": 4,
 "nbformat_minor": 5
}
