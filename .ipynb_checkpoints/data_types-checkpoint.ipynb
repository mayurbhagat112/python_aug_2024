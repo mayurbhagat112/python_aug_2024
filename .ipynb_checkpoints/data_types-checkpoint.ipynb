{
 "cells": [
  {
   "cell_type": "code",
   "execution_count": 1,
   "id": "f60b7bd2-26a6-4cd5-af87-9d4a0c54a003",
   "metadata": {},
   "outputs": [],
   "source": [
    "num=10"
   ]
  },
  {
   "cell_type": "code",
   "execution_count": null,
   "id": "cbc5b221-d6a8-4926-8312-eab7807c5341",
   "metadata": {},
   "outputs": [],
   "source": [
    "hi guys my father will not come"
   ]
  },
  {
   "cell_type": "code",
   "execution_count": 3,
   "id": "6219c6d1-fe7e-4d58-9d25-439816d31747",
   "metadata": {},
   "outputs": [
    {
     "data": {
      "text/plain": [
       "int"
      ]
     },
     "execution_count": 3,
     "metadata": {},
     "output_type": "execute_result"
    }
   ],
   "source": [
    "type(num)"
   ]
  },
  {
   "cell_type": "code",
   "execution_count": 5,
   "id": "aeb11104-e96d-4fed-9a7f-6fa7d5a3c846",
   "metadata": {},
   "outputs": [],
   "source": [
    "num1=10.3"
   ]
  },
  {
   "cell_type": "code",
   "execution_count": 7,
   "id": "2c8d45a5-50d8-48f1-a6b1-1139668b45e7",
   "metadata": {},
   "outputs": [
    {
     "data": {
      "text/plain": [
       "float"
      ]
     },
     "execution_count": 7,
     "metadata": {},
     "output_type": "execute_result"
    }
   ],
   "source": [
    "type(num1)"
   ]
  },
  {
   "cell_type": "code",
   "execution_count": 9,
   "id": "1289699d-42a1-4dc6-b0d7-e59ae311600a",
   "metadata": {},
   "outputs": [],
   "source": [
    "num1='string'"
   ]
  },
  {
   "cell_type": "code",
   "execution_count": 11,
   "id": "ecc0cddd-ffd1-4cd7-8889-aa0d8a6c4862",
   "metadata": {},
   "outputs": [
    {
     "data": {
      "text/plain": [
       "str"
      ]
     },
     "execution_count": 11,
     "metadata": {},
     "output_type": "execute_result"
    }
   ],
   "source": [
    "type(num1)"
   ]
  },
  {
   "cell_type": "code",
   "execution_count": 13,
   "id": "663f050a-6426-4108-aa1b-d548bb8d051e",
   "metadata": {},
   "outputs": [],
   "source": [
    "num1=True"
   ]
  },
  {
   "cell_type": "code",
   "execution_count": 15,
   "id": "b9964311-9725-4adf-905c-15b84315ab8e",
   "metadata": {},
   "outputs": [
    {
     "data": {
      "text/plain": [
       "bool"
      ]
     },
     "execution_count": 15,
     "metadata": {},
     "output_type": "execute_result"
    }
   ],
   "source": [
    "type(num1)"
   ]
  },
  {
   "cell_type": "code",
   "execution_count": 96,
   "id": "04bead78-6726-4d15-83ac-3e0d1343ff51",
   "metadata": {},
   "outputs": [],
   "source": [
    "num2=False"
   ]
  },
  {
   "cell_type": "code",
   "execution_count": 98,
   "id": "9028b3a4-3482-4963-aded-389f2793f8a1",
   "metadata": {},
   "outputs": [
    {
     "data": {
      "text/plain": [
       "bool"
      ]
     },
     "execution_count": 98,
     "metadata": {},
     "output_type": "execute_result"
    }
   ],
   "source": [
    "type(num2)"
   ]
  },
  {
   "cell_type": "code",
   "execution_count": 17,
   "id": "2e1e59e9-7a9a-47bc-b7e5-da2f807b1497",
   "metadata": {},
   "outputs": [],
   "source": [
    "num=2+3j"
   ]
  },
  {
   "cell_type": "code",
   "execution_count": 19,
   "id": "954e5862-4cfa-4f3b-b7bf-385b5546226b",
   "metadata": {},
   "outputs": [
    {
     "data": {
      "text/plain": [
       "complex"
      ]
     },
     "execution_count": 19,
     "metadata": {},
     "output_type": "execute_result"
    }
   ],
   "source": [
    "type(num)"
   ]
  },
  {
   "cell_type": "code",
   "execution_count": 21,
   "id": "d54b5750-e34b-4920-9b8a-7e7ff69cbe65",
   "metadata": {},
   "outputs": [],
   "source": [
    "name='mayur'"
   ]
  },
  {
   "cell_type": "code",
   "execution_count": 23,
   "id": "98641fb8-3b46-4790-ad21-fedebeda55d0",
   "metadata": {},
   "outputs": [
    {
     "data": {
      "text/plain": [
       "'mayur'"
      ]
     },
     "execution_count": 23,
     "metadata": {},
     "output_type": "execute_result"
    }
   ],
   "source": [
    "name"
   ]
  },
  {
   "cell_type": "code",
   "execution_count": 25,
   "id": "47253780-4bfc-4860-b909-44b49efc1d39",
   "metadata": {},
   "outputs": [],
   "source": [
    "name2=\"mayur\""
   ]
  },
  {
   "cell_type": "code",
   "execution_count": 27,
   "id": "477f621f-efd9-48cc-a789-828d42ca5bad",
   "metadata": {},
   "outputs": [
    {
     "data": {
      "text/plain": [
       "'mayur'"
      ]
     },
     "execution_count": 27,
     "metadata": {},
     "output_type": "execute_result"
    }
   ],
   "source": [
    "name2"
   ]
  },
  {
   "cell_type": "code",
   "execution_count": 29,
   "id": "1b7373ce-4bac-4351-8e55-5def76e55a88",
   "metadata": {},
   "outputs": [],
   "source": [
    "num1=100"
   ]
  },
  {
   "cell_type": "code",
   "execution_count": 31,
   "id": "f69fef38-351c-474a-85f1-e7ec552b4e2a",
   "metadata": {},
   "outputs": [
    {
     "data": {
      "text/plain": [
       "100"
      ]
     },
     "execution_count": 31,
     "metadata": {},
     "output_type": "execute_result"
    }
   ],
   "source": [
    "num1"
   ]
  },
  {
   "cell_type": "code",
   "execution_count": 33,
   "id": "e4c841cd-a1d1-4e1c-950f-8dfb70edcef4",
   "metadata": {},
   "outputs": [
    {
     "data": {
      "text/plain": [
       "15"
      ]
     },
     "execution_count": 33,
     "metadata": {},
     "output_type": "execute_result"
    }
   ],
   "source": [
    "0b1111"
   ]
  },
  {
   "cell_type": "code",
   "execution_count": null,
   "id": "14b20bd3-5eca-4888-8f97-5fc8d4bf3007",
   "metadata": {},
   "outputs": [],
   "source": [
    "8  4  2  1\n",
    "\n",
    "0  0  0  0\n",
    "0  0  0  1             #binary code\n",
    "0  0  1  0\n",
    "0  0  1  1\n",
    "0  1  0  0\n",
    "0  1  0  1\n",
    "0  1  1  0\n",
    "0  1  1  1\n",
    "1  0  0  0\n",
    "1  0  0  1\n",
    "1  0  1  0\n",
    "1  0  1  1\n",
    "1  1  0  0\n",
    "1  1  0  1\n",
    "1  1  1  0\n",
    "1  1  1  1"
   ]
  },
  {
   "cell_type": "code",
   "execution_count": 35,
   "id": "14a1cf8e-96da-4679-bd83-7a72e6b7b70a",
   "metadata": {},
   "outputs": [
    {
     "data": {
      "text/plain": [
       "291"
      ]
     },
     "execution_count": 35,
     "metadata": {},
     "output_type": "execute_result"
    }
   ],
   "source": [
    "0x123"
   ]
  },
  {
   "cell_type": "code",
   "execution_count": 37,
   "id": "caa34391-e5bb-428a-8467-c62da2f74df8",
   "metadata": {},
   "outputs": [
    {
     "data": {
      "text/plain": [
       "83"
      ]
     },
     "execution_count": 37,
     "metadata": {},
     "output_type": "execute_result"
    }
   ],
   "source": [
    "0o123"
   ]
  },
  {
   "cell_type": "code",
   "execution_count": 39,
   "id": "f0f807e2-2aaf-4934-9783-619e70eb888c",
   "metadata": {},
   "outputs": [
    {
     "data": {
      "text/plain": [
       "5"
      ]
     },
     "execution_count": 39,
     "metadata": {},
     "output_type": "execute_result"
    }
   ],
   "source": [
    "0b0101"
   ]
  },
  {
   "cell_type": "code",
   "execution_count": 41,
   "id": "27fb4217-6b8b-4d5d-a703-056d5fa5c2e3",
   "metadata": {},
   "outputs": [
    {
     "data": {
      "text/plain": [
       "801"
      ]
     },
     "execution_count": 41,
     "metadata": {},
     "output_type": "execute_result"
    }
   ],
   "source": [
    "0x321"
   ]
  },
  {
   "cell_type": "code",
   "execution_count": 43,
   "id": "7f8cb4d6-34cc-494a-8d40-e9eeabc94893",
   "metadata": {},
   "outputs": [
    {
     "data": {
      "text/plain": [
       "209"
      ]
     },
     "execution_count": 43,
     "metadata": {},
     "output_type": "execute_result"
    }
   ],
   "source": [
    "0o321"
   ]
  },
  {
   "cell_type": "code",
   "execution_count": 45,
   "id": "804e154e-4217-496a-b7af-4604b705d30e",
   "metadata": {},
   "outputs": [
    {
     "data": {
      "text/plain": [
       "'C:\\\\Users\\\\Mayur\\\\Documents\\\\python practice'"
      ]
     },
     "execution_count": 45,
     "metadata": {},
     "output_type": "execute_result"
    }
   ],
   "source": [
    "import os\n",
    "os.getcwd()"
   ]
  },
  {
   "cell_type": "code",
   "execution_count": 49,
   "id": "8c412572-e5f7-4fac-bc92-7bbfc2c396a2",
   "metadata": {},
   "outputs": [
    {
     "data": {
      "text/plain": [
       "10.0"
      ]
     },
     "execution_count": 49,
     "metadata": {},
     "output_type": "execute_result"
    }
   ],
   "source": [
    "1e1"
   ]
  },
  {
   "cell_type": "code",
   "execution_count": 53,
   "id": "ad7ddeb7-e873-4725-bfb4-b0d4b330df7f",
   "metadata": {},
   "outputs": [
    {
     "data": {
      "text/plain": [
       "(10.0, 100.0, 1000.0, 10000.0, 100000.0)"
      ]
     },
     "execution_count": 53,
     "metadata": {},
     "output_type": "execute_result"
    }
   ],
   "source": [
    "1e1,1e2,1e3,1e4,1e5"
   ]
  },
  {
   "cell_type": "code",
   "execution_count": 55,
   "id": "78e06498-9d26-428d-86da-2322b5f498ee",
   "metadata": {},
   "outputs": [
    {
     "data": {
      "text/plain": [
       "1e+17"
      ]
     },
     "execution_count": 55,
     "metadata": {},
     "output_type": "execute_result"
    }
   ],
   "source": [
    "1e17"
   ]
  },
  {
   "cell_type": "code",
   "execution_count": null,
   "id": "331619ed-5bc3-4d13-bb2b-5549f8d6871e",
   "metadata": {},
   "outputs": [],
   "source": [
    "k*10^p"
   ]
  },
  {
   "cell_type": "markdown",
   "id": "24203c42-7f64-49b6-81ed-7ae3990c45b4",
   "metadata": {},
   "source": [
    "24e-3"
   ]
  },
  {
   "cell_type": "code",
   "execution_count": 58,
   "id": "02003718-4a6b-4ff6-b050-7383713a2dc0",
   "metadata": {},
   "outputs": [
    {
     "data": {
      "text/plain": [
       "0.024"
      ]
     },
     "execution_count": 58,
     "metadata": {},
     "output_type": "execute_result"
    }
   ],
   "source": [
    "24e-3"
   ]
  },
  {
   "cell_type": "code",
   "execution_count": 60,
   "id": "738db324-5640-432c-bee1-f9e079ea5dc4",
   "metadata": {},
   "outputs": [
    {
     "data": {
      "text/plain": [
       "-243"
      ]
     },
     "execution_count": 60,
     "metadata": {},
     "output_type": "execute_result"
    }
   ],
   "source": [
    "(24*10^-3)"
   ]
  },
  {
   "cell_type": "code",
   "execution_count": 64,
   "id": "ba86b0d0-7c8a-4555-91cd-0b85c874ac13",
   "metadata": {},
   "outputs": [
    {
     "data": {
      "text/plain": [
       "0.024"
      ]
     },
     "execution_count": 64,
     "metadata": {},
     "output_type": "execute_result"
    }
   ],
   "source": [
    "24*1/1000"
   ]
  },
  {
   "cell_type": "code",
   "execution_count": 66,
   "id": "c1c6f7a2-158d-4b07-8b7c-1a16d98ca7c6",
   "metadata": {},
   "outputs": [
    {
     "data": {
      "text/plain": [
       "24000.0"
      ]
     },
     "execution_count": 66,
     "metadata": {},
     "output_type": "execute_result"
    }
   ],
   "source": [
    "24e3"
   ]
  },
  {
   "cell_type": "code",
   "execution_count": null,
   "id": "b7ef1724-fc30-4fa2-b44c-61aa2f29c5ea",
   "metadata": {},
   "outputs": [],
   "source": [
    "here positive sign means mutiply (+=*)\n",
    "and negative sign means division (-=/)"
   ]
  },
  {
   "cell_type": "code",
   "execution_count": 68,
   "id": "670b5109-68a0-4ff0-b74a-cea2cdf1c07b",
   "metadata": {},
   "outputs": [],
   "source": [
    "str='naresh'"
   ]
  },
  {
   "cell_type": "code",
   "execution_count": 70,
   "id": "2c5d65c5-5d63-4599-94e6-c0a87950e316",
   "metadata": {},
   "outputs": [
    {
     "data": {
      "text/plain": [
       "'naresh'"
      ]
     },
     "execution_count": 70,
     "metadata": {},
     "output_type": "execute_result"
    }
   ],
   "source": [
    "str"
   ]
  },
  {
   "cell_type": "code",
   "execution_count": 72,
   "id": "ce06d101-7b8d-4ef0-8af8-4818a20f3cec",
   "metadata": {},
   "outputs": [],
   "source": [
    "str2=\"nareshit\""
   ]
  },
  {
   "cell_type": "code",
   "execution_count": 74,
   "id": "d24fae52-2f1c-4bf9-aee4-46c3bcb05650",
   "metadata": {},
   "outputs": [
    {
     "data": {
      "text/plain": [
       "'nareshit'"
      ]
     },
     "execution_count": 74,
     "metadata": {},
     "output_type": "execute_result"
    }
   ],
   "source": [
    "str2"
   ]
  },
  {
   "cell_type": "code",
   "execution_count": 92,
   "id": "c2fa20e7-b45c-4c74-b656-3dc3965619c0",
   "metadata": {},
   "outputs": [
    {
     "data": {
      "text/plain": [
       "' hello everyone good morning '"
      ]
     },
     "execution_count": 92,
     "metadata": {},
     "output_type": "execute_result"
    }
   ],
   "source": [
    "\"\"\" hello everyone good morning \"\"\"  #this is doc string show the information to the user"
   ]
  },
  {
   "cell_type": "code",
   "execution_count": 78,
   "id": "62f9a7a2-8163-4c50-b205-bf0b2a0cc928",
   "metadata": {},
   "outputs": [
    {
     "data": {
      "text/plain": [
       "' hello everyone good morning '"
      ]
     },
     "execution_count": 78,
     "metadata": {},
     "output_type": "execute_result"
    }
   ],
   "source": [
    "str3"
   ]
  },
  {
   "cell_type": "code",
   "execution_count": 86,
   "id": "0b572f39-080f-4d8e-b63a-e7f75bc8b3bb",
   "metadata": {},
   "outputs": [],
   "source": [
    "l=1"
   ]
  },
  {
   "cell_type": "code",
   "execution_count": 90,
   "id": "69937abc-b50b-47e4-8cbb-f778073c0943",
   "metadata": {},
   "outputs": [
    {
     "data": {
      "text/plain": [
       "int"
      ]
     },
     "execution_count": 90,
     "metadata": {},
     "output_type": "execute_result"
    }
   ],
   "source": [
    "type(1)"
   ]
  },
  {
   "cell_type": "code",
   "execution_count": 94,
   "id": "4adf53e9-32d7-4054-a23e-bd9dc87fd4ef",
   "metadata": {},
   "outputs": [
    {
     "data": {
      "text/plain": [
       "'\\nhello everyone\\ngood morning\\nhiii\\n'"
      ]
     },
     "execution_count": 94,
     "metadata": {},
     "output_type": "execute_result"
    }
   ],
   "source": [
    "\"\"\"\n",
    "hello everyone\n",
    "good morning\n",
    "hiii\n",
    "\"\"\""
   ]
  },
  {
   "cell_type": "code",
   "execution_count": null,
   "id": "6438adb5-7f80-48c6-ba82-84ac7925a89f",
   "metadata": {},
   "outputs": [],
   "source": [
    "in python # show the single line comment "
   ]
  },
  {
   "cell_type": "code",
   "execution_count": 1,
   "id": "066c7309-fab5-4dd5-9f0f-fe4b3abfd36d",
   "metadata": {},
   "outputs": [],
   "source": [
    "true=\"True\""
   ]
  },
  {
   "cell_type": "code",
   "execution_count": 3,
   "id": "fbb0fa51-ee64-4cec-b3d7-f17df777f84f",
   "metadata": {},
   "outputs": [
    {
     "data": {
      "text/plain": [
       "'True'"
      ]
     },
     "execution_count": 3,
     "metadata": {},
     "output_type": "execute_result"
    }
   ],
   "source": [
    "true"
   ]
  },
  {
   "cell_type": "code",
   "execution_count": 5,
   "id": "d867f33c-8b2a-4222-8f7b-e0b73161a30b",
   "metadata": {},
   "outputs": [
    {
     "data": {
      "text/plain": [
       "str"
      ]
     },
     "execution_count": 5,
     "metadata": {},
     "output_type": "execute_result"
    }
   ],
   "source": [
    "type(true)"
   ]
  },
  {
   "cell_type": "code",
   "execution_count": 1,
   "id": "ebc11f14-e1fa-433a-8deb-b311d8c2e126",
   "metadata": {},
   "outputs": [
    {
     "name": "stdout",
     "output_type": "stream",
     "text": [
      "Return random integer in range [a, b], including both end points.\n",
      "        \n"
     ]
    }
   ],
   "source": [
    "import random\n",
    "print(random.randint.__doc__)"
   ]
  },
  {
   "cell_type": "code",
   "execution_count": null,
   "id": "f55dd714-865e-4364-9940-74f10c4c65e0",
   "metadata": {},
   "outputs": [],
   "source": [
    "flag study "
   ]
  }
 ],
 "metadata": {
  "kernelspec": {
   "display_name": "Python 3 (ipykernel)",
   "language": "python",
   "name": "python3"
  },
  "language_info": {
   "codemirror_mode": {
    "name": "ipython",
    "version": 3
   },
   "file_extension": ".py",
   "mimetype": "text/x-python",
   "name": "python",
   "nbconvert_exporter": "python",
   "pygments_lexer": "ipython3",
   "version": "3.11.7"
  }
 },
 "nbformat": 4,
 "nbformat_minor": 5
}
