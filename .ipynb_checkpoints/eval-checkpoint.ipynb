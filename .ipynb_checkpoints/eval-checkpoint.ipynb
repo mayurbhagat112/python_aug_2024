{
 "cells": [
  {
   "cell_type": "code",
   "execution_count": 1,
   "id": "6e4970bf-1ba9-4ddf-94a1-41355512b46b",
   "metadata": {},
   "outputs": [],
   "source": [
    "num1=100\n",
    "num2=200\n",
    "add=num1+num2"
   ]
  },
  {
   "cell_type": "code",
   "execution_count": 3,
   "id": "bf745f8e-a0bf-47a7-a565-531abeed0685",
   "metadata": {},
   "outputs": [
    {
     "data": {
      "text/plain": [
       "300"
      ]
     },
     "execution_count": 3,
     "metadata": {},
     "output_type": "execute_result"
    }
   ],
   "source": [
    "add"
   ]
  },
  {
   "cell_type": "code",
   "execution_count": null,
   "id": "68ca6880-3000-434f-b249-f046cdd768f0",
   "metadata": {},
   "outputs": [],
   "source": [
    "hello hi are u"
   ]
  },
  {
   "cell_type": "code",
   "execution_count": null,
   "id": "beeb65c9-7096-4e00-bd1e-4c506d2ee3fa",
   "metadata": {},
   "outputs": [],
   "source": [
    "input keyword is take value from the user"
   ]
  },
  {
   "cell_type": "code",
   "execution_count": 5,
   "id": "1f78e2e1-7426-4160-a4be-e34ea7929cb1",
   "metadata": {},
   "outputs": [
    {
     "name": "stdin",
     "output_type": "stream",
     "text": [
      "enter the number 100\n"
     ]
    },
    {
     "data": {
      "text/plain": [
       "'100'"
      ]
     },
     "execution_count": 5,
     "metadata": {},
     "output_type": "execute_result"
    }
   ],
   "source": [
    "input(\"enter the number\")"
   ]
  },
  {
   "cell_type": "code",
   "execution_count": 7,
   "id": "c5401d57-47a6-412f-86ce-f0afe9c48dd8",
   "metadata": {},
   "outputs": [
    {
     "name": "stdin",
     "output_type": "stream",
     "text": [
      " 200\n"
     ]
    },
    {
     "data": {
      "text/plain": [
       "'200'"
      ]
     },
     "execution_count": 7,
     "metadata": {},
     "output_type": "execute_result"
    }
   ],
   "source": [
    "input()"
   ]
  },
  {
   "cell_type": "code",
   "execution_count": 13,
   "id": "c6edba30-4b06-4d2e-a51d-15d51f4f1cb3",
   "metadata": {},
   "outputs": [
    {
     "name": "stdin",
     "output_type": "stream",
     "text": [
      "enter the number1 100\n",
      "enter the number2 200\n"
     ]
    }
   ],
   "source": [
    "num1=input(\"enter the number1\")\n",
    "num2=input(\"enter the number2\")"
   ]
  },
  {
   "cell_type": "code",
   "execution_count": 15,
   "id": "2f5cc0d9-83b6-4cd9-8baa-954b5d8e70d4",
   "metadata": {},
   "outputs": [
    {
     "data": {
      "text/plain": [
       "'100'"
      ]
     },
     "execution_count": 15,
     "metadata": {},
     "output_type": "execute_result"
    }
   ],
   "source": [
    "num1"
   ]
  },
  {
   "cell_type": "code",
   "execution_count": 17,
   "id": "d593530b-b7ad-4cf0-a67c-5046dccea593",
   "metadata": {},
   "outputs": [
    {
     "data": {
      "text/plain": [
       "'200'"
      ]
     },
     "execution_count": 17,
     "metadata": {},
     "output_type": "execute_result"
    }
   ],
   "source": [
    "num2"
   ]
  },
  {
   "cell_type": "code",
   "execution_count": 19,
   "id": "253f375b-6556-471e-acb7-3e8200b07c5d",
   "metadata": {},
   "outputs": [
    {
     "name": "stdin",
     "output_type": "stream",
     "text": [
      "enter the number 100.5\n"
     ]
    }
   ],
   "source": [
    "num1=input(\"enter the number\")"
   ]
  },
  {
   "cell_type": "code",
   "execution_count": 21,
   "id": "200a8b85-32a8-4d19-86ff-fb8049e752af",
   "metadata": {},
   "outputs": [
    {
     "data": {
      "text/plain": [
       "'100.5'"
      ]
     },
     "execution_count": 21,
     "metadata": {},
     "output_type": "execute_result"
    }
   ],
   "source": [
    "num1"
   ]
  },
  {
   "cell_type": "code",
   "execution_count": null,
   "id": "34792ce8-8852-42c3-ad1b-a68bbc6fa47d",
   "metadata": {},
   "outputs": [],
   "source": [
    "-input always give int data type only \n",
    "-in order to perform math calculation we need convert into int or flot"
   ]
  },
  {
   "cell_type": "code",
   "execution_count": 60,
   "id": "038bfc0f-d0bf-4c6f-a22d-1079886322c0",
   "metadata": {},
   "outputs": [
    {
     "name": "stdin",
     "output_type": "stream",
     "text": [
      "enter the number 10\n"
     ]
    }
   ],
   "source": [
    "num1=bool(input(\"enter the number\"))"
   ]
  },
  {
   "cell_type": "code",
   "execution_count": 62,
   "id": "89e22a2a-9206-416a-8f44-7edef5b00180",
   "metadata": {},
   "outputs": [
    {
     "data": {
      "text/plain": [
       "True"
      ]
     },
     "execution_count": 62,
     "metadata": {},
     "output_type": "execute_result"
    }
   ],
   "source": [
    "num1"
   ]
  },
  {
   "cell_type": "markdown",
   "id": "f1fc693d-0e77-4897-ae1b-ebd4791056aa",
   "metadata": {},
   "source": [
    "***eval***"
   ]
  },
  {
   "cell_type": "code",
   "execution_count": null,
   "id": "fcfa8a64-6533-4e41-982b-cf57381a61fd",
   "metadata": {},
   "outputs": [],
   "source": [
    "eval means evaluate\n",
    "whatever the number we enter eval convert into corresponding data type \n",
    "eval is universal "
   ]
  },
  {
   "cell_type": "code",
   "execution_count": 26,
   "id": "b48142e7-95b0-4142-9f3e-8aecabd9c625",
   "metadata": {},
   "outputs": [
    {
     "name": "stdin",
     "output_type": "stream",
     "text": [
      "enter the bill amount: 1000\n",
      "enter the tip amount 10\n"
     ]
    },
    {
     "name": "stdout",
     "output_type": "stream",
     "text": [
      "the total bill amount after tip is : 1100.0\n"
     ]
    }
   ],
   "source": [
    "bill=eval(input(\"enter the bill amount:\"))\n",
    "tip=eval(input(\"enter the tip amount\"))\n",
    "tip_a=bill*tip/100\n",
    "t_bill=bill+tip_a\n",
    "print(f\"the total bill amount after tip is : {t_bill}\")"
   ]
  },
  {
   "cell_type": "code",
   "execution_count": null,
   "id": "15d52a2c-aac6-4a46-8127-28ba5a432adb",
   "metadata": {},
   "outputs": [],
   "source": [
    " wap ask the user enter 3 numbers calculate average"
   ]
  },
  {
   "cell_type": "code",
   "execution_count": 38,
   "id": "7b0915c0-4b63-404c-b0cd-b70203a9f82d",
   "metadata": {},
   "outputs": [
    {
     "name": "stdin",
     "output_type": "stream",
     "text": [
      "enter the number 4.44\n",
      "enter the number 8.88\n",
      "enter the number 1.222\n"
     ]
    },
    {
     "name": "stdout",
     "output_type": "stream",
     "text": [
      "the average of three number is 0.15\n"
     ]
    }
   ],
   "source": [
    "num1=eval(input(\"enter the number\"))\n",
    "num2=eval(input(\"enter the number\"))\n",
    "num3=eval(input(\"enter the number\"))\n",
    "avg=(num1+num2+num3)/100\n",
    "avg1=round(avg,2)\n",
    "print(f\"the average of three number is {avg1}\")"
   ]
  },
  {
   "cell_type": "code",
   "execution_count": 42,
   "id": "6a86a80e-a7d9-4943-974f-c95be8f584e1",
   "metadata": {},
   "outputs": [
    {
     "name": "stdin",
     "output_type": "stream",
     "text": [
      "enter the number 1 100\n",
      "enter the number 2 200\n"
     ]
    },
    {
     "name": "stdout",
     "output_type": "stream",
     "text": [
      "-------------------\n",
      "adidition is 300\n",
      "subtraction is -100\n",
      "multiplication is 20000\n",
      "division is 0.5\n"
     ]
    }
   ],
   "source": [
    "num1=eval(input(\"enter the number 1\"))\n",
    "num2=eval(input(\"enter the number 2\"))\n",
    "add=num1+num2\n",
    "sub=num1-num2\n",
    "mul=num1*num2\n",
    "div=num1/num2\n",
    "print(\"-------------------\")\n",
    "print(f\"adidition is {add}\")\n",
    "print(f\"subtraction is {sub}\")\n",
    "print(f\"multiplication is {mul}\")\n",
    "print(f\"division is {div}\")"
   ]
  },
  {
   "cell_type": "code",
   "execution_count": null,
   "id": "2309f93e-589e-4018-bb53-9755727b64b9",
   "metadata": {},
   "outputs": [],
   "source": [
    "wap ask the uer enter radius values find the area of the circle"
   ]
  },
  {
   "cell_type": "code",
   "execution_count": 48,
   "id": "66a419e8-9f23-44a1-8807-0f1ff049b699",
   "metadata": {},
   "outputs": [
    {
     "name": "stdin",
     "output_type": "stream",
     "text": [
      "enter the radius of circle: 10\n"
     ]
    },
    {
     "name": "stdout",
     "output_type": "stream",
     "text": [
      "the area of circle is 314.0\n"
     ]
    }
   ],
   "source": [
    "r=eval(input(\"enter the radius of circle:\"))\n",
    "a=3.14*r*r\n",
    "print(f\"the area of circle is {a}\")"
   ]
  },
  {
   "cell_type": "code",
   "execution_count": null,
   "id": "1c2da572-cf66-4591-a595-480d81809ab9",
   "metadata": {},
   "outputs": [],
   "source": [
    "#wap ask the user bill amount in dollars\n",
    "# ask the user onedollar\n",
    "# print the bill amount in rupees"
   ]
  },
  {
   "cell_type": "code",
   "execution_count": 50,
   "id": "c71ad8e2-9d57-44b3-8b9e-f66f410c5c77",
   "metadata": {},
   "outputs": [
    {
     "name": "stdin",
     "output_type": "stream",
     "text": [
      "enter the bill  amount in dollar 10\n",
      "enter the one dollar is equal to indian 83.39\n"
     ]
    },
    {
     "name": "stdout",
     "output_type": "stream",
     "text": [
      "the bill amount in indian rupees is 833.9\n"
     ]
    }
   ],
   "source": [
    "bill=eval(input(\"enter the bill  amount in dollar\"))\n",
    "one_dollar=eval(input(\"enter the one dollar is equal to indian\"))\n",
    "ind=bill*one_dollar\n",
    "print(f\"the bill amount in indian rupees is {ind}\")"
   ]
  },
  {
   "cell_type": "code",
   "execution_count": 52,
   "id": "d5e69481-02e0-4b0e-9b30-3069862c16f1",
   "metadata": {},
   "outputs": [],
   "source": [
    "#wap ask the user enter base height calculate area of the traingle"
   ]
  },
  {
   "cell_type": "code",
   "execution_count": 54,
   "id": "01b04367-1b33-4bbd-9657-712047396d6e",
   "metadata": {},
   "outputs": [
    {
     "name": "stdin",
     "output_type": "stream",
     "text": [
      "enter the base of triangle: 10\n",
      "enter the height of the triangle 10\n"
     ]
    },
    {
     "name": "stdout",
     "output_type": "stream",
     "text": [
      "the area of triangle: 50.0\n"
     ]
    }
   ],
   "source": [
    "base=eval(input(\"enter the base of triangle:\"))\n",
    "height=eval(input(\"enter the height of the triangle\"))\n",
    "area=base*height*1/2\n",
    "print(f\"the area of triangle: {area}\")"
   ]
  },
  {
   "cell_type": "code",
   "execution_count": 56,
   "id": "011a696a-e603-4ed3-bc7f-fbfe9d729952",
   "metadata": {},
   "outputs": [],
   "source": [
    "#wap ask the user enter length and breadth calculate area of the rectangle"
   ]
  },
  {
   "cell_type": "code",
   "execution_count": 58,
   "id": "7057d300-cd30-4391-b806-20238660988a",
   "metadata": {},
   "outputs": [
    {
     "name": "stdin",
     "output_type": "stream",
     "text": [
      "enter the length of rec: 10\n",
      "enter the breadth of rec 10\n"
     ]
    },
    {
     "name": "stdout",
     "output_type": "stream",
     "text": [
      "the area of rectangle is 100\n"
     ]
    }
   ],
   "source": [
    "l=eval(input(\"enter the length of rec:\"))\n",
    "b=eval(input(\"enter the breadth of rec\"))\n",
    "area=l*b\n",
    "print(f\"the area of rectangle is {area}\")"
   ]
  },
  {
   "cell_type": "code",
   "execution_count": null,
   "id": "0b79dcd7-3af6-4071-afac-24198b9dc759",
   "metadata": {},
   "outputs": [],
   "source": []
  }
 ],
 "metadata": {
  "kernelspec": {
   "display_name": "Python 3 (ipykernel)",
   "language": "python",
   "name": "python3"
  },
  "language_info": {
   "codemirror_mode": {
    "name": "ipython",
    "version": 3
   },
   "file_extension": ".py",
   "mimetype": "text/x-python",
   "name": "python",
   "nbconvert_exporter": "python",
   "pygments_lexer": "ipython3",
   "version": "3.11.7"
  }
 },
 "nbformat": 4,
 "nbformat_minor": 5
}
